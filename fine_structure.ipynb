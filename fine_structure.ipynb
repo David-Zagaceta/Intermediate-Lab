{
 "cells": [
  {
   "cell_type": "code",
   "execution_count": 1,
   "metadata": {},
   "outputs": [],
   "source": [
    "import numpy as np\n",
    "import matplotlib.pyplot as plt\n",
    "import pandas as pd\n",
    "from pandas.plotting import table\n",
    "import subprocess\n",
    "from scipy.optimize import curve_fit"
   ]
  },
  {
   "cell_type": "markdown",
   "metadata": {},
   "source": [
    "## Load Data and display tabke"
   ]
  },
  {
   "cell_type": "code",
   "execution_count": 2,
   "metadata": {},
   "outputs": [
    {
     "data": {
      "text/html": [
       "<div>\n",
       "<style scoped>\n",
       "    .dataframe tbody tr th:only-of-type {\n",
       "        vertical-align: middle;\n",
       "    }\n",
       "\n",
       "    .dataframe tbody tr th {\n",
       "        vertical-align: top;\n",
       "    }\n",
       "\n",
       "    .dataframe thead th {\n",
       "        text-align: right;\n",
       "    }\n",
       "</style>\n",
       "<table border=\"1\" class=\"dataframe\">\n",
       "  <thead>\n",
       "    <tr style=\"text-align: right;\">\n",
       "      <th></th>\n",
       "      <th>order</th>\n",
       "      <th>direction</th>\n",
       "      <th>lambda</th>\n",
       "      <th>degree eyepiece</th>\n",
       "      <th>arcminute eyepiece</th>\n",
       "      <th>degree inlet</th>\n",
       "      <th>arcminute inlet</th>\n",
       "      <th>uncertainty</th>\n",
       "      <th>zero</th>\n",
       "    </tr>\n",
       "  </thead>\n",
       "  <tbody>\n",
       "    <tr>\n",
       "      <th>0</th>\n",
       "      <td>1</td>\n",
       "      <td>1</td>\n",
       "      <td>404.66</td>\n",
       "      <td>14</td>\n",
       "      <td>3</td>\n",
       "      <td>194</td>\n",
       "      <td>2</td>\n",
       "      <td>1</td>\n",
       "      <td>1.5</td>\n",
       "    </tr>\n",
       "    <tr>\n",
       "      <th>1</th>\n",
       "      <td>1</td>\n",
       "      <td>1</td>\n",
       "      <td>435.84</td>\n",
       "      <td>15</td>\n",
       "      <td>10</td>\n",
       "      <td>195</td>\n",
       "      <td>8</td>\n",
       "      <td>1</td>\n",
       "      <td>1.5</td>\n",
       "    </tr>\n",
       "    <tr>\n",
       "      <th>2</th>\n",
       "      <td>1</td>\n",
       "      <td>1</td>\n",
       "      <td>576.96</td>\n",
       "      <td>20</td>\n",
       "      <td>14</td>\n",
       "      <td>200</td>\n",
       "      <td>13</td>\n",
       "      <td>1</td>\n",
       "      <td>1.5</td>\n",
       "    </tr>\n",
       "    <tr>\n",
       "      <th>3</th>\n",
       "      <td>1</td>\n",
       "      <td>1</td>\n",
       "      <td>578.97</td>\n",
       "      <td>20</td>\n",
       "      <td>18</td>\n",
       "      <td>200</td>\n",
       "      <td>18</td>\n",
       "      <td>1</td>\n",
       "      <td>1.5</td>\n",
       "    </tr>\n",
       "    <tr>\n",
       "      <th>4</th>\n",
       "      <td>2</td>\n",
       "      <td>1</td>\n",
       "      <td>435.84</td>\n",
       "      <td>31</td>\n",
       "      <td>31</td>\n",
       "      <td>211</td>\n",
       "      <td>30</td>\n",
       "      <td>1</td>\n",
       "      <td>1.5</td>\n",
       "    </tr>\n",
       "    <tr>\n",
       "      <th>5</th>\n",
       "      <td>2</td>\n",
       "      <td>1</td>\n",
       "      <td>546.07</td>\n",
       "      <td>40</td>\n",
       "      <td>55</td>\n",
       "      <td>220</td>\n",
       "      <td>55</td>\n",
       "      <td>1</td>\n",
       "      <td>1.5</td>\n",
       "    </tr>\n",
       "    <tr>\n",
       "      <th>6</th>\n",
       "      <td>2</td>\n",
       "      <td>1</td>\n",
       "      <td>576.96</td>\n",
       "      <td>43</td>\n",
       "      <td>48</td>\n",
       "      <td>223</td>\n",
       "      <td>48</td>\n",
       "      <td>1</td>\n",
       "      <td>1.5</td>\n",
       "    </tr>\n",
       "    <tr>\n",
       "      <th>7</th>\n",
       "      <td>3</td>\n",
       "      <td>1</td>\n",
       "      <td>435.84</td>\n",
       "      <td>51</td>\n",
       "      <td>40</td>\n",
       "      <td>231</td>\n",
       "      <td>36</td>\n",
       "      <td>1</td>\n",
       "      <td>1.5</td>\n",
       "    </tr>\n",
       "    <tr>\n",
       "      <th>8</th>\n",
       "      <td>1</td>\n",
       "      <td>-1</td>\n",
       "      <td>404.66</td>\n",
       "      <td>345</td>\n",
       "      <td>58</td>\n",
       "      <td>165</td>\n",
       "      <td>55</td>\n",
       "      <td>1</td>\n",
       "      <td>1.5</td>\n",
       "    </tr>\n",
       "    <tr>\n",
       "      <th>9</th>\n",
       "      <td>1</td>\n",
       "      <td>-1</td>\n",
       "      <td>435.84</td>\n",
       "      <td>344</td>\n",
       "      <td>50</td>\n",
       "      <td>164</td>\n",
       "      <td>48</td>\n",
       "      <td>1</td>\n",
       "      <td>1.5</td>\n",
       "    </tr>\n",
       "    <tr>\n",
       "      <th>10</th>\n",
       "      <td>1</td>\n",
       "      <td>-1</td>\n",
       "      <td>546.07</td>\n",
       "      <td>340</td>\n",
       "      <td>53</td>\n",
       "      <td>160</td>\n",
       "      <td>50</td>\n",
       "      <td>1</td>\n",
       "      <td>1.5</td>\n",
       "    </tr>\n",
       "    <tr>\n",
       "      <th>11</th>\n",
       "      <td>1</td>\n",
       "      <td>-1</td>\n",
       "      <td>576.96</td>\n",
       "      <td>339</td>\n",
       "      <td>45</td>\n",
       "      <td>159</td>\n",
       "      <td>42</td>\n",
       "      <td>1</td>\n",
       "      <td>1.5</td>\n",
       "    </tr>\n",
       "    <tr>\n",
       "      <th>12</th>\n",
       "      <td>1</td>\n",
       "      <td>-1</td>\n",
       "      <td>578.97</td>\n",
       "      <td>339</td>\n",
       "      <td>40</td>\n",
       "      <td>159</td>\n",
       "      <td>37</td>\n",
       "      <td>1</td>\n",
       "      <td>1.5</td>\n",
       "    </tr>\n",
       "    <tr>\n",
       "      <th>13</th>\n",
       "      <td>2</td>\n",
       "      <td>-1</td>\n",
       "      <td>435.84</td>\n",
       "      <td>328</td>\n",
       "      <td>30</td>\n",
       "      <td>148</td>\n",
       "      <td>27</td>\n",
       "      <td>1</td>\n",
       "      <td>1.5</td>\n",
       "    </tr>\n",
       "    <tr>\n",
       "      <th>14</th>\n",
       "      <td>2</td>\n",
       "      <td>-1</td>\n",
       "      <td>546.07</td>\n",
       "      <td>319</td>\n",
       "      <td>5</td>\n",
       "      <td>139</td>\n",
       "      <td>2</td>\n",
       "      <td>1</td>\n",
       "      <td>1.5</td>\n",
       "    </tr>\n",
       "    <tr>\n",
       "      <th>15</th>\n",
       "      <td>2</td>\n",
       "      <td>-1</td>\n",
       "      <td>576.96</td>\n",
       "      <td>316</td>\n",
       "      <td>12</td>\n",
       "      <td>136</td>\n",
       "      <td>9</td>\n",
       "      <td>1</td>\n",
       "      <td>1.5</td>\n",
       "    </tr>\n",
       "    <tr>\n",
       "      <th>16</th>\n",
       "      <td>3</td>\n",
       "      <td>-1</td>\n",
       "      <td>435.84</td>\n",
       "      <td>308</td>\n",
       "      <td>20</td>\n",
       "      <td>128</td>\n",
       "      <td>19</td>\n",
       "      <td>1</td>\n",
       "      <td>1.5</td>\n",
       "    </tr>\n",
       "  </tbody>\n",
       "</table>\n",
       "</div>"
      ],
      "text/plain": [
       "    order  direction  lambda  degree eyepiece  arcminute eyepiece  \\\n",
       "0       1          1  404.66               14                   3   \n",
       "1       1          1  435.84               15                  10   \n",
       "2       1          1  576.96               20                  14   \n",
       "3       1          1  578.97               20                  18   \n",
       "4       2          1  435.84               31                  31   \n",
       "5       2          1  546.07               40                  55   \n",
       "6       2          1  576.96               43                  48   \n",
       "7       3          1  435.84               51                  40   \n",
       "8       1         -1  404.66              345                  58   \n",
       "9       1         -1  435.84              344                  50   \n",
       "10      1         -1  546.07              340                  53   \n",
       "11      1         -1  576.96              339                  45   \n",
       "12      1         -1  578.97              339                  40   \n",
       "13      2         -1  435.84              328                  30   \n",
       "14      2         -1  546.07              319                   5   \n",
       "15      2         -1  576.96              316                  12   \n",
       "16      3         -1  435.84              308                  20   \n",
       "\n",
       "    degree inlet  arcminute inlet  uncertainty  zero  \n",
       "0            194                2            1   1.5  \n",
       "1            195                8            1   1.5  \n",
       "2            200               13            1   1.5  \n",
       "3            200               18            1   1.5  \n",
       "4            211               30            1   1.5  \n",
       "5            220               55            1   1.5  \n",
       "6            223               48            1   1.5  \n",
       "7            231               36            1   1.5  \n",
       "8            165               55            1   1.5  \n",
       "9            164               48            1   1.5  \n",
       "10           160               50            1   1.5  \n",
       "11           159               42            1   1.5  \n",
       "12           159               37            1   1.5  \n",
       "13           148               27            1   1.5  \n",
       "14           139                2            1   1.5  \n",
       "15           136                9            1   1.5  \n",
       "16           128               19            1   1.5  "
      ]
     },
     "execution_count": 2,
     "metadata": {},
     "output_type": "execute_result"
    }
   ],
   "source": [
    "df = pd.read_excel('Hg.xlsx')\n",
    "df"
   ]
  },
  {
   "cell_type": "markdown",
   "metadata": {},
   "source": [
    "## Send table to an array and transpose it for easy indexing, then pull out all the necessary attributes"
   ]
  },
  {
   "cell_type": "code",
   "execution_count": 3,
   "metadata": {},
   "outputs": [],
   "source": [
    "arr = df.values.T\n",
    "eye_d = arr[3]\n",
    "eye_m = arr[4]\n",
    "in_d = arr[5]\n",
    "in_m = arr[6]\n",
    "orders = arr[0]\n",
    "lambdas = arr[2]\n",
    "directions = arr[1]\n",
    "zero = 0*arr[8]\n",
    "uncertainties = arr[7]"
   ]
  },
  {
   "cell_type": "markdown",
   "metadata": {},
   "source": [
    "## Add the zero to the minutes and then convert to degrees from arcminutes"
   ]
  },
  {
   "cell_type": "code",
   "execution_count": 4,
   "metadata": {},
   "outputs": [],
   "source": [
    "eye_m += zero*directions\n",
    "in_m += zero*directions\n",
    "eye_m = eye_m/60\n",
    "in_m = in_m/60"
   ]
  },
  {
   "cell_type": "markdown",
   "metadata": {},
   "source": [
    "## Add the converted arcminutes to the degrees"
   ]
  },
  {
   "cell_type": "code",
   "execution_count": 5,
   "metadata": {},
   "outputs": [],
   "source": [
    "eye_d += eye_m\n",
    "in_d += in_m"
   ]
  },
  {
   "cell_type": "markdown",
   "metadata": {},
   "source": [
    "## Find the differences and average the readings from both verniers output which measurements need to be reconsidered"
   ]
  },
  {
   "cell_type": "code",
   "execution_count": 6,
   "metadata": {},
   "outputs": [
    {
     "name": "stdout",
     "output_type": "stream",
     "text": [
      "there are 14 measurements to recheck, check the arrays for the wavelength and order\n",
      "[404.66 435.84 576.96 435.84 435.84 404.66 435.84 546.07 576.96 578.97\n",
      " 435.84 546.07 576.96 435.84]\n",
      "[1. 1. 1. 2. 3. 1. 1. 1. 1. 1. 2. 2. 2. 3.]\n",
      "[ 1.  1.  1.  1.  1. -1. -1. -1. -1. -1. -1. -1. -1. -1.]\n",
      "[ 14.05        15.16666667  20.23333333  31.51666667  51.66666667\n",
      " 345.96666667 344.83333333 340.88333333 339.75       339.66666667\n",
      " 328.5        319.08333333 316.2        308.33333333] [ 14.03333333  15.13333333  20.21666667  31.5         51.6\n",
      " 345.91666667 344.8        340.83333333 339.7        339.61666667\n",
      " 328.45       319.03333333 316.15       308.31666667]\n"
     ]
    }
   ],
   "source": [
    "diff = eye_d - (in_d-180)%360\n",
    "bools = diff>10**(-6)\n",
    "print('there are {} measurements to recheck, check the arrays for the wavelength and order'.format(np.sum(bools)))\n",
    "wl = lambdas[bools]\n",
    "order = orders[bools]\n",
    "direction = directions[bools]\n",
    "print(wl)\n",
    "print(order)\n",
    "print(direction)\n",
    "print(eye_d[bools], (in_d[bools]-180)%360)\n",
    "# for indexing the fit\n",
    "indices = np.invert(bools)"
   ]
  },
  {
   "cell_type": "code",
   "execution_count": 7,
   "metadata": {},
   "outputs": [
    {
     "name": "stdout",
     "output_type": "stream",
     "text": [
      "[ 0.24507332  0.26441738  0.35299284  0.35430184  0.54992416  0.71413055\n",
      "  0.76445421  0.90117167 -0.2453642  -0.26499916 -0.33408511 -0.35386551\n",
      " -0.35531995 -0.55021505 -0.71456688 -0.76489054 -0.90189889]\n"
     ]
    }
   ],
   "source": [
    "average = (eye_d + (in_d-180)%360)/2\n",
    "average[average>178] -= 360\n",
    "print(np.deg2rad(average))"
   ]
  },
  {
   "cell_type": "markdown",
   "metadata": {},
   "source": [
    "## Now we do a least squares fit given by the following equation\n",
    "\n",
    "$$ n_k\\lambda_k = d(\\sin\\theta_i \\pm \\sin(\\theta_k\\pm\\theta_i)) $$\n",
    "\n",
    "## To determine $d^{-1}$ and $sin\\theta_i$"
   ]
  },
  {
   "cell_type": "code",
   "execution_count": 8,
   "metadata": {},
   "outputs": [],
   "source": [
    "def f(x, d, thi):\n",
    "    # could be + or - for where these are\n",
    "    return d*(np.sin(thi)+np.sin(x-thi))\n",
    "\n",
    "def f_err(x,d,thi,xerr,derr,thierr):\n",
    "    return (d*np.cos(x-thi)*xerr)**2 + ((np.sin(thi)+np.sin(x-thi))*derr)**2 + (d*(np.cos(thi)-np.cos(x-thi))*thierr)**2\n",
    "\n",
    "def chi_squared(exp, th, err):\n",
    "    if len(exp) != len(th):\n",
    "        raise ValueError('dimensions do not match')\n",
    "        \n",
    "    return {'theoretical_chi_2':len(exp), 'chi2_deviation':np.sqrt(2*len(exp)), 'calculated_chi2':np.sum((exp-th)**2/err)}"
   ]
  },
  {
   "cell_type": "code",
   "execution_count": 9,
   "metadata": {},
   "outputs": [
    {
     "data": {
      "text/plain": [
       "<ErrorbarContainer object of 3 artists>"
      ]
     },
     "execution_count": 9,
     "metadata": {},
     "output_type": "execute_result"
    },
    {
     "data": {
      "image/png": "[encoded data removed]",
      "text/plain": [
       "<Figure size 432x288 with 1 Axes>"
      ]
     },
     "metadata": {
      "needs_background": "light"
     },
     "output_type": "display_data"
    }
   ],
   "source": [
    "outs = lambdas*orders*directions\n",
    "ins = np.deg2rad(average)\n",
    "init = [1/600*10**(6), 0.01]\n",
    "params, cov = curve_fit(f, ins, outs, p0=init)\n",
    "\n",
    "d = params[0]\n",
    "derr = np.sqrt(cov[0,0])\n",
    "thierr = np.sqrt(cov[1,1])\n",
    "thi = params[1]\n",
    "xerr = np.deg2rad(1/60)\n",
    "\n",
    "err = f_err(ins,d,thi,xerr,derr,thierr)\n",
    "plt.plot(np.sin(ins), outs, 'k.')\n",
    "plt.errorbar(np.sin(ins), f(ins, d, thi), yerr=np.sqrt(err))"
   ]
  },
  {
   "cell_type": "code",
   "execution_count": 10,
   "metadata": {},
   "outputs": [
    {
     "data": {
      "text/plain": [
       "<ErrorbarContainer object of 3 artists>"
      ]
     },
     "execution_count": 10,
     "metadata": {},
     "output_type": "execute_result"
    },
    {
     "data": {
      "image/png": "[encoded data removed]",
      "text/plain": [
       "<Figure size 432x288 with 1 Axes>"
      ]
     },
     "metadata": {
      "needs_background": "light"
     },
     "output_type": "display_data"
    }
   ],
   "source": [
    "plt.errorbar(np.sin(ins), outs-f(ins,d,thi), yerr=np.sqrt(err), fmt='.k')"
   ]
  },
  {
   "cell_type": "code",
   "execution_count": 11,
   "metadata": {},
   "outputs": [
    {
     "name": "stdout",
     "output_type": "stream",
     "text": [
      "{'theoretical_chi_2': 17, 'chi2_deviation': 5.830951894845301, 'calculated_chi2': 13.781354818953918}\n"
     ]
    }
   ],
   "source": [
    "chi2 = chi_squared(outs, f(ins,d,thi), err)\n",
    "print(chi2)"
   ]
  },
  {
   "cell_type": "code",
   "execution_count": 12,
   "metadata": {},
   "outputs": [
    {
     "data": {
      "text/plain": [
       "<ErrorbarContainer object of 3 artists>"
      ]
     },
     "execution_count": 12,
     "metadata": {},
     "output_type": "execute_result"
    },
    {
     "data": {
      "image/png": "[encoded data removed]",
      "text/plain": [
       "<Figure size 432x288 with 1 Axes>"
      ]
     },
     "metadata": {
      "needs_background": "light"
     },
     "output_type": "display_data"
    }
   ],
   "source": [
    "outs = lambdas*orders*directions\n",
    "ins = np.deg2rad(average)\n",
    "init = [1/600*10**(6), 0.01]\n",
    "params, cov = curve_fit(f, ins, outs, p0=init, sigma=1/err)\n",
    "\n",
    "d = params[0]\n",
    "derr = np.sqrt(cov[0,0])\n",
    "thierr = np.sqrt(cov[1,1])\n",
    "thi = params[1]\n",
    "xerr = np.deg2rad(1/60)\n",
    "\n",
    "err = f_err(ins,d,thi,xerr,derr,thierr)\n",
    "plt.plot(np.sin(ins), outs, 'k.')\n",
    "plt.errorbar(np.sin(ins), f(ins, d, thi), yerr=np.sqrt(err))"
   ]
  },
  {
   "cell_type": "code",
   "execution_count": 13,
   "metadata": {},
   "outputs": [
    {
     "data": {
      "text/plain": [
       "Text(0.5, 0, '$\\\\sin\\\\theta$')"
      ]
     },
     "execution_count": 13,
     "metadata": {},
     "output_type": "execute_result"
    },
    {
     "data": {
      "image/png": "[encoded data removed]",
      "text/plain": [
       "<Figure size 432x288 with 1 Axes>"
      ]
     },
     "metadata": {
      "needs_background": "light"
     },
     "output_type": "display_data"
    }
   ],
   "source": [
    "plt.errorbar(np.sin(ins), outs-f(ins,d,thi), yerr=np.sqrt(err), fmt='.k')\n",
    "plt.ylabel(r'residuals $(nm)$')\n",
    "plt.xlabel(r'$\\sin\\theta$')\n",
    "#plt.savefig('bad_residuals.png')"
   ]
  },
  {
   "cell_type": "code",
   "execution_count": 14,
   "metadata": {},
   "outputs": [
    {
     "name": "stdout",
     "output_type": "stream",
     "text": [
      "{'theoretical_chi_2': 17, 'chi2_deviation': 5.830951894845301, 'calculated_chi2': 13.786314503312072}\n"
     ]
    }
   ],
   "source": [
    "chi2 = chi_squared(outs, f(ins,d,thi), err)\n",
    "print(chi2)"
   ]
  },
  {
   "cell_type": "code",
   "execution_count": 15,
   "metadata": {},
   "outputs": [
    {
     "data": {
      "text/html": [
       "<div>\n",
       "<style scoped>\n",
       "    .dataframe tbody tr th:only-of-type {\n",
       "        vertical-align: middle;\n",
       "    }\n",
       "\n",
       "    .dataframe tbody tr th {\n",
       "        vertical-align: top;\n",
       "    }\n",
       "\n",
       "    .dataframe thead th {\n",
       "        text-align: right;\n",
       "    }\n",
       "</style>\n",
       "<table border=\"1\" class=\"dataframe\">\n",
       "  <thead>\n",
       "    <tr style=\"text-align: right;\">\n",
       "      <th></th>\n",
       "      <th>order</th>\n",
       "      <th>orientation</th>\n",
       "      <th>lambda</th>\n",
       "      <th>degree eyepiece</th>\n",
       "      <th>arcminute eyepiece</th>\n",
       "      <th>degree inlet</th>\n",
       "      <th>arcminute inlet</th>\n",
       "      <th>uncertainty</th>\n",
       "      <th>zero</th>\n",
       "    </tr>\n",
       "  </thead>\n",
       "  <tbody>\n",
       "    <tr>\n",
       "      <th>0</th>\n",
       "      <td>1</td>\n",
       "      <td>1</td>\n",
       "      <td>434.05</td>\n",
       "      <td>15</td>\n",
       "      <td>4</td>\n",
       "      <td>195</td>\n",
       "      <td>3</td>\n",
       "      <td>1</td>\n",
       "      <td>1.5</td>\n",
       "    </tr>\n",
       "    <tr>\n",
       "      <th>1</th>\n",
       "      <td>1</td>\n",
       "      <td>1</td>\n",
       "      <td>486.13</td>\n",
       "      <td>16</td>\n",
       "      <td>55</td>\n",
       "      <td>196</td>\n",
       "      <td>53</td>\n",
       "      <td>1</td>\n",
       "      <td>1.5</td>\n",
       "    </tr>\n",
       "    <tr>\n",
       "      <th>2</th>\n",
       "      <td>1</td>\n",
       "      <td>1</td>\n",
       "      <td>656.30</td>\n",
       "      <td>23</td>\n",
       "      <td>10</td>\n",
       "      <td>203</td>\n",
       "      <td>7</td>\n",
       "      <td>1</td>\n",
       "      <td>1.5</td>\n",
       "    </tr>\n",
       "    <tr>\n",
       "      <th>3</th>\n",
       "      <td>2</td>\n",
       "      <td>1</td>\n",
       "      <td>434.05</td>\n",
       "      <td>31</td>\n",
       "      <td>20</td>\n",
       "      <td>211</td>\n",
       "      <td>17</td>\n",
       "      <td>1</td>\n",
       "      <td>1.5</td>\n",
       "    </tr>\n",
       "    <tr>\n",
       "      <th>4</th>\n",
       "      <td>2</td>\n",
       "      <td>1</td>\n",
       "      <td>486.13</td>\n",
       "      <td>35</td>\n",
       "      <td>40</td>\n",
       "      <td>215</td>\n",
       "      <td>36</td>\n",
       "      <td>1</td>\n",
       "      <td>1.5</td>\n",
       "    </tr>\n",
       "    <tr>\n",
       "      <th>5</th>\n",
       "      <td>2</td>\n",
       "      <td>1</td>\n",
       "      <td>656.30</td>\n",
       "      <td>51</td>\n",
       "      <td>57</td>\n",
       "      <td>231</td>\n",
       "      <td>53</td>\n",
       "      <td>1</td>\n",
       "      <td>1.5</td>\n",
       "    </tr>\n",
       "    <tr>\n",
       "      <th>6</th>\n",
       "      <td>1</td>\n",
       "      <td>-1</td>\n",
       "      <td>434.05</td>\n",
       "      <td>344</td>\n",
       "      <td>55</td>\n",
       "      <td>154</td>\n",
       "      <td>51</td>\n",
       "      <td>1</td>\n",
       "      <td>1.5</td>\n",
       "    </tr>\n",
       "    <tr>\n",
       "      <th>7</th>\n",
       "      <td>1</td>\n",
       "      <td>-1</td>\n",
       "      <td>486.13</td>\n",
       "      <td>343</td>\n",
       "      <td>2</td>\n",
       "      <td>162</td>\n",
       "      <td>58</td>\n",
       "      <td>1</td>\n",
       "      <td>1.5</td>\n",
       "    </tr>\n",
       "    <tr>\n",
       "      <th>8</th>\n",
       "      <td>1</td>\n",
       "      <td>-1</td>\n",
       "      <td>656.30</td>\n",
       "      <td>336</td>\n",
       "      <td>48</td>\n",
       "      <td>156</td>\n",
       "      <td>43</td>\n",
       "      <td>1</td>\n",
       "      <td>1.5</td>\n",
       "    </tr>\n",
       "    <tr>\n",
       "      <th>9</th>\n",
       "      <td>2</td>\n",
       "      <td>-1</td>\n",
       "      <td>434.05</td>\n",
       "      <td>328</td>\n",
       "      <td>37</td>\n",
       "      <td>148</td>\n",
       "      <td>33</td>\n",
       "      <td>1</td>\n",
       "      <td>1.5</td>\n",
       "    </tr>\n",
       "    <tr>\n",
       "      <th>10</th>\n",
       "      <td>2</td>\n",
       "      <td>-1</td>\n",
       "      <td>486.13</td>\n",
       "      <td>324</td>\n",
       "      <td>18</td>\n",
       "      <td>144</td>\n",
       "      <td>12</td>\n",
       "      <td>1</td>\n",
       "      <td>1.5</td>\n",
       "    </tr>\n",
       "    <tr>\n",
       "      <th>11</th>\n",
       "      <td>2</td>\n",
       "      <td>-1</td>\n",
       "      <td>656.30</td>\n",
       "      <td>308</td>\n",
       "      <td>5</td>\n",
       "      <td>128</td>\n",
       "      <td>0</td>\n",
       "      <td>1</td>\n",
       "      <td>1.5</td>\n",
       "    </tr>\n",
       "  </tbody>\n",
       "</table>\n",
       "</div>"
      ],
      "text/plain": [
       "    order  orientation  lambda  degree eyepiece  arcminute eyepiece  \\\n",
       "0       1            1  434.05               15                   4   \n",
       "1       1            1  486.13               16                  55   \n",
       "2       1            1  656.30               23                  10   \n",
       "3       2            1  434.05               31                  20   \n",
       "4       2            1  486.13               35                  40   \n",
       "5       2            1  656.30               51                  57   \n",
       "6       1           -1  434.05              344                  55   \n",
       "7       1           -1  486.13              343                   2   \n",
       "8       1           -1  656.30              336                  48   \n",
       "9       2           -1  434.05              328                  37   \n",
       "10      2           -1  486.13              324                  18   \n",
       "11      2           -1  656.30              308                   5   \n",
       "\n",
       "    degree inlet  arcminute inlet  uncertainty  zero  \n",
       "0            195                3            1   1.5  \n",
       "1            196               53            1   1.5  \n",
       "2            203                7            1   1.5  \n",
       "3            211               17            1   1.5  \n",
       "4            215               36            1   1.5  \n",
       "5            231               53            1   1.5  \n",
       "6            154               51            1   1.5  \n",
       "7            162               58            1   1.5  \n",
       "8            156               43            1   1.5  \n",
       "9            148               33            1   1.5  \n",
       "10           144               12            1   1.5  \n",
       "11           128                0            1   1.5  "
      ]
     },
     "execution_count": 15,
     "metadata": {},
     "output_type": "execute_result"
    }
   ],
   "source": [
    "df = pd.read_excel('Hydrogen.xlsx')\n",
    "df"
   ]
  },
  {
   "cell_type": "code",
   "execution_count": 16,
   "metadata": {},
   "outputs": [],
   "source": [
    "arr = df.values.T\n",
    "eye_d = arr[3]\n",
    "eye_m = arr[4]\n",
    "in_d = arr[5]\n",
    "in_m = arr[6]\n",
    "orders = arr[0]\n",
    "lambdas = arr[2]\n",
    "directions = arr[1]\n",
    "zero = 0*arr[8]\n",
    "uncertainties = arr[7]"
   ]
  },
  {
   "cell_type": "code",
   "execution_count": 17,
   "metadata": {},
   "outputs": [],
   "source": [
    "eye_m += zero*directions\n",
    "in_m += zero*directions\n",
    "eye_m = eye_m/60\n",
    "in_m = in_m/60"
   ]
  },
  {
   "cell_type": "code",
   "execution_count": 18,
   "metadata": {},
   "outputs": [],
   "source": [
    "eye_d += eye_m\n",
    "in_d += in_m"
   ]
  },
  {
   "cell_type": "code",
   "execution_count": 19,
   "metadata": {},
   "outputs": [
    {
     "name": "stdout",
     "output_type": "stream",
     "text": [
      "there are 12 measurements to recheck, check the arrays for the wavelength and order\n",
      "[434.05 486.13 656.3  434.05 486.13 656.3  434.05 486.13 656.3  434.05\n",
      " 486.13 656.3 ]\n",
      "[1. 1. 1. 2. 2. 2. 1. 1. 1. 2. 2. 2.]\n",
      "[ 1.  1.  1.  1.  1.  1. -1. -1. -1. -1. -1. -1.]\n",
      "[ 15.06666667  16.91666667  23.16666667  31.33333333  35.66666667\n",
      "  51.95       344.91666667 343.03333333 336.8        328.61666667\n",
      " 324.3        308.08333333] [ 15.05        16.88333333  23.11666667  31.28333333  35.6\n",
      "  51.88333333 334.85       342.96666667 336.71666667 328.55\n",
      " 324.2        308.        ]\n"
     ]
    }
   ],
   "source": [
    "diff = eye_d - (in_d-180)%360\n",
    "bools = diff>10**(-6)\n",
    "print('there are {} measurements to recheck, check the arrays for the wavelength and order'.format(np.sum(bools)))\n",
    "wl = lambdas[bools]\n",
    "order = orders[bools]\n",
    "direction = directions[bools]\n",
    "print(wl)\n",
    "print(order)\n",
    "print(direction)\n",
    "print(eye_d[bools], (in_d[bools]-180)%360)\n",
    "# for indexing the fit\n",
    "indices = np.invert(bools)"
   ]
  },
  {
   "cell_type": "code",
   "execution_count": 20,
   "metadata": {},
   "outputs": [
    {
     "name": "stdout",
     "output_type": "stream",
     "text": [
      "[ 0.2628175   0.29496064  0.40389828  0.5464335   0.62191899  0.90611677\n",
      " -0.35110207 -0.29670597 -0.40564361 -0.54832427 -0.62395521 -0.90684399]\n"
     ]
    }
   ],
   "source": [
    "average = (eye_d + (in_d-180)%360)/2\n",
    "average[average>178] -= 360\n",
    "print(np.deg2rad(average))"
   ]
  },
  {
   "cell_type": "code",
   "execution_count": 21,
   "metadata": {},
   "outputs": [
    {
     "name": "stdout",
     "output_type": "stream",
     "text": [
      "[ 433.12888192  484.65139439  655.24607931  433.2247062   485.72779842\n",
      "  656.348655   -573.21103536 -487.29083455 -657.65335597 -434.32899517\n",
      " -486.79586775 -656.08887824]\n",
      "[0.47322941 0.47042264 0.45960903 0.44493815 0.43860072 0.44297858\n",
      " 0.46475888 0.47000922 0.45911513 0.44443566 0.43815905 0.44312573]\n"
     ]
    }
   ],
   "source": [
    "ins = np.deg2rad(average)\n",
    "\n",
    "wls = f(ins, d, thi)/orders\n",
    "print(wls)\n",
    "wl_uncertainties = np.sqrt(f_err(ins,d,thi,xerr,derr,thierr))\n",
    "print(wl_uncertainties)"
   ]
  },
  {
   "cell_type": "code",
   "execution_count": 22,
   "metadata": {},
   "outputs": [],
   "source": [
    "data_dict = {'orders':orders, 'theoretical wavelengths':lambdas,'experimental wavelengths':wls, 'uncertainties':wl_uncertainties}"
   ]
  },
  {
   "cell_type": "code",
   "execution_count": 23,
   "metadata": {},
   "outputs": [],
   "source": [
    "hydrogen = pd.DataFrame(data_dict)"
   ]
  },
  {
   "cell_type": "code",
   "execution_count": 24,
   "metadata": {},
   "outputs": [
    {
     "data": {
      "text/html": [
       "<div>\n",
       "<style scoped>\n",
       "    .dataframe tbody tr th:only-of-type {\n",
       "        vertical-align: middle;\n",
       "    }\n",
       "\n",
       "    .dataframe tbody tr th {\n",
       "        vertical-align: top;\n",
       "    }\n",
       "\n",
       "    .dataframe thead th {\n",
       "        text-align: right;\n",
       "    }\n",
       "</style>\n",
       "<table border=\"1\" class=\"dataframe\">\n",
       "  <thead>\n",
       "    <tr style=\"text-align: right;\">\n",
       "      <th></th>\n",
       "      <th>orders</th>\n",
       "      <th>theoretical wavelengths</th>\n",
       "      <th>experimental wavelengths</th>\n",
       "      <th>uncertainties</th>\n",
       "    </tr>\n",
       "  </thead>\n",
       "  <tbody>\n",
       "    <tr>\n",
       "      <th>0</th>\n",
       "      <td>1.0</td>\n",
       "      <td>434.05</td>\n",
       "      <td>433.128882</td>\n",
       "      <td>0.473229</td>\n",
       "    </tr>\n",
       "    <tr>\n",
       "      <th>1</th>\n",
       "      <td>1.0</td>\n",
       "      <td>486.13</td>\n",
       "      <td>484.651394</td>\n",
       "      <td>0.470423</td>\n",
       "    </tr>\n",
       "    <tr>\n",
       "      <th>2</th>\n",
       "      <td>1.0</td>\n",
       "      <td>656.30</td>\n",
       "      <td>655.246079</td>\n",
       "      <td>0.459609</td>\n",
       "    </tr>\n",
       "    <tr>\n",
       "      <th>3</th>\n",
       "      <td>2.0</td>\n",
       "      <td>434.05</td>\n",
       "      <td>433.224706</td>\n",
       "      <td>0.444938</td>\n",
       "    </tr>\n",
       "    <tr>\n",
       "      <th>4</th>\n",
       "      <td>2.0</td>\n",
       "      <td>486.13</td>\n",
       "      <td>485.727798</td>\n",
       "      <td>0.438601</td>\n",
       "    </tr>\n",
       "    <tr>\n",
       "      <th>5</th>\n",
       "      <td>2.0</td>\n",
       "      <td>656.30</td>\n",
       "      <td>656.348655</td>\n",
       "      <td>0.442979</td>\n",
       "    </tr>\n",
       "    <tr>\n",
       "      <th>6</th>\n",
       "      <td>1.0</td>\n",
       "      <td>434.05</td>\n",
       "      <td>-573.211035</td>\n",
       "      <td>0.464759</td>\n",
       "    </tr>\n",
       "    <tr>\n",
       "      <th>7</th>\n",
       "      <td>1.0</td>\n",
       "      <td>486.13</td>\n",
       "      <td>-487.290835</td>\n",
       "      <td>0.470009</td>\n",
       "    </tr>\n",
       "    <tr>\n",
       "      <th>8</th>\n",
       "      <td>1.0</td>\n",
       "      <td>656.30</td>\n",
       "      <td>-657.653356</td>\n",
       "      <td>0.459115</td>\n",
       "    </tr>\n",
       "    <tr>\n",
       "      <th>9</th>\n",
       "      <td>2.0</td>\n",
       "      <td>434.05</td>\n",
       "      <td>-434.328995</td>\n",
       "      <td>0.444436</td>\n",
       "    </tr>\n",
       "    <tr>\n",
       "      <th>10</th>\n",
       "      <td>2.0</td>\n",
       "      <td>486.13</td>\n",
       "      <td>-486.795868</td>\n",
       "      <td>0.438159</td>\n",
       "    </tr>\n",
       "    <tr>\n",
       "      <th>11</th>\n",
       "      <td>2.0</td>\n",
       "      <td>656.30</td>\n",
       "      <td>-656.088878</td>\n",
       "      <td>0.443126</td>\n",
       "    </tr>\n",
       "  </tbody>\n",
       "</table>\n",
       "</div>"
      ],
      "text/plain": [
       "    orders  theoretical wavelengths  experimental wavelengths  uncertainties\n",
       "0      1.0                   434.05                433.128882       0.473229\n",
       "1      1.0                   486.13                484.651394       0.470423\n",
       "2      1.0                   656.30                655.246079       0.459609\n",
       "3      2.0                   434.05                433.224706       0.444938\n",
       "4      2.0                   486.13                485.727798       0.438601\n",
       "5      2.0                   656.30                656.348655       0.442979\n",
       "6      1.0                   434.05               -573.211035       0.464759\n",
       "7      1.0                   486.13               -487.290835       0.470009\n",
       "8      1.0                   656.30               -657.653356       0.459115\n",
       "9      2.0                   434.05               -434.328995       0.444436\n",
       "10     2.0                   486.13               -486.795868       0.438159\n",
       "11     2.0                   656.30               -656.088878       0.443126"
      ]
     },
     "execution_count": 24,
     "metadata": {},
     "output_type": "execute_result"
    }
   ],
   "source": [
    "hydrogen"
   ]
  },
  {
   "cell_type": "code",
   "execution_count": null,
   "metadata": {},
   "outputs": [],
   "source": []
  }
 ],
 "metadata": {
  "kernelspec": {
   "display_name": "Python 3",
   "language": "python",
   "name": "python3"
  },
  "language_info": {
   "codemirror_mode": {
    "name": "ipython",
    "version": 3
   },
   "file_extension": ".py",
   "mimetype": "text/x-python",
   "name": "python",
   "nbconvert_exporter": "python",
   "pygments_lexer": "ipython3",
   "version": "3.6.5"
  }
 },
 "nbformat": 4,
 "nbformat_minor": 2
}

{
 "cells": [
  {
   "cell_type": "code",
   "execution_count": 1,
   "metadata": {},
   "outputs": [],
   "source": [
    "import numpy as np\n",
    "import pandas as pd\n",
    "import matplotlib.pyplot as plt\n",
    "from scipy.optimize import curve_fit"
   ]
  },
  {
   "cell_type": "code",
   "execution_count": 2,
   "metadata": {},
   "outputs": [],
   "source": [
    "beta_tin = pd.read_excel('betasnV.xlsx')"
   ]
  },
  {
   "cell_type": "code",
   "execution_count": 3,
   "metadata": {},
   "outputs": [
    {
     "data": {
      "text/html": [
       "<div>\n",
       "<style scoped>\n",
       "    .dataframe tbody tr th:only-of-type {\n",
       "        vertical-align: middle;\n",
       "    }\n",
       "\n",
       "    .dataframe tbody tr th {\n",
       "        vertical-align: top;\n",
       "    }\n",
       "\n",
       "    .dataframe thead th {\n",
       "        text-align: right;\n",
       "    }\n",
       "</style>\n",
       "<table border=\"1\" class=\"dataframe\">\n",
       "  <thead>\n",
       "    <tr style=\"text-align: right;\">\n",
       "      <th></th>\n",
       "      <th>Volume (A^3)</th>\n",
       "      <th>Volume/Atom</th>\n",
       "      <th>Pressure (Gpa)</th>\n",
       "      <th>Volume Uncertainty</th>\n",
       "      <th>Pressure Uncertainty</th>\n",
       "    </tr>\n",
       "  </thead>\n",
       "  <tbody>\n",
       "    <tr>\n",
       "      <th>0</th>\n",
       "      <td>107.881</td>\n",
       "      <td>26.97025</td>\n",
       "      <td>0.2</td>\n",
       "      <td>0.00750</td>\n",
       "      <td>0.1</td>\n",
       "    </tr>\n",
       "    <tr>\n",
       "      <th>1</th>\n",
       "      <td>107.461</td>\n",
       "      <td>26.86525</td>\n",
       "      <td>0.4</td>\n",
       "      <td>0.00750</td>\n",
       "      <td>0.1</td>\n",
       "    </tr>\n",
       "    <tr>\n",
       "      <th>2</th>\n",
       "      <td>105.618</td>\n",
       "      <td>26.40450</td>\n",
       "      <td>1.4</td>\n",
       "      <td>0.00750</td>\n",
       "      <td>0.1</td>\n",
       "    </tr>\n",
       "    <tr>\n",
       "      <th>3</th>\n",
       "      <td>104.589</td>\n",
       "      <td>26.14725</td>\n",
       "      <td>2.1</td>\n",
       "      <td>0.00750</td>\n",
       "      <td>0.1</td>\n",
       "    </tr>\n",
       "    <tr>\n",
       "      <th>4</th>\n",
       "      <td>103.096</td>\n",
       "      <td>25.77400</td>\n",
       "      <td>3.0</td>\n",
       "      <td>0.00750</td>\n",
       "      <td>0.1</td>\n",
       "    </tr>\n",
       "    <tr>\n",
       "      <th>5</th>\n",
       "      <td>102.366</td>\n",
       "      <td>25.59150</td>\n",
       "      <td>3.5</td>\n",
       "      <td>0.00625</td>\n",
       "      <td>0.1</td>\n",
       "    </tr>\n",
       "    <tr>\n",
       "      <th>6</th>\n",
       "      <td>101.528</td>\n",
       "      <td>25.38200</td>\n",
       "      <td>4.1</td>\n",
       "      <td>0.00625</td>\n",
       "      <td>0.1</td>\n",
       "    </tr>\n",
       "    <tr>\n",
       "      <th>7</th>\n",
       "      <td>100.816</td>\n",
       "      <td>25.20400</td>\n",
       "      <td>4.6</td>\n",
       "      <td>0.00625</td>\n",
       "      <td>0.1</td>\n",
       "    </tr>\n",
       "    <tr>\n",
       "      <th>8</th>\n",
       "      <td>100.139</td>\n",
       "      <td>25.03475</td>\n",
       "      <td>5.1</td>\n",
       "      <td>0.00625</td>\n",
       "      <td>0.1</td>\n",
       "    </tr>\n",
       "    <tr>\n",
       "      <th>9</th>\n",
       "      <td>99.113</td>\n",
       "      <td>24.77825</td>\n",
       "      <td>5.9</td>\n",
       "      <td>0.00625</td>\n",
       "      <td>0.1</td>\n",
       "    </tr>\n",
       "    <tr>\n",
       "      <th>10</th>\n",
       "      <td>98.345</td>\n",
       "      <td>24.58625</td>\n",
       "      <td>6.5</td>\n",
       "      <td>0.00625</td>\n",
       "      <td>0.1</td>\n",
       "    </tr>\n",
       "    <tr>\n",
       "      <th>11</th>\n",
       "      <td>97.561</td>\n",
       "      <td>24.39025</td>\n",
       "      <td>7.2</td>\n",
       "      <td>0.00625</td>\n",
       "      <td>0.1</td>\n",
       "    </tr>\n",
       "    <tr>\n",
       "      <th>12</th>\n",
       "      <td>96.797</td>\n",
       "      <td>24.19925</td>\n",
       "      <td>7.9</td>\n",
       "      <td>0.00625</td>\n",
       "      <td>0.1</td>\n",
       "    </tr>\n",
       "    <tr>\n",
       "      <th>13</th>\n",
       "      <td>95.972</td>\n",
       "      <td>23.99300</td>\n",
       "      <td>8.8</td>\n",
       "      <td>0.00625</td>\n",
       "      <td>0.1</td>\n",
       "    </tr>\n",
       "    <tr>\n",
       "      <th>14</th>\n",
       "      <td>95.091</td>\n",
       "      <td>23.77275</td>\n",
       "      <td>9.5</td>\n",
       "      <td>0.00625</td>\n",
       "      <td>0.1</td>\n",
       "    </tr>\n",
       "    <tr>\n",
       "      <th>15</th>\n",
       "      <td>93.896</td>\n",
       "      <td>23.47400</td>\n",
       "      <td>10.8</td>\n",
       "      <td>0.00750</td>\n",
       "      <td>0.1</td>\n",
       "    </tr>\n",
       "  </tbody>\n",
       "</table>\n",
       "</div>"
      ],
      "text/plain": [
       "    Volume (A^3)  Volume/Atom  Pressure (Gpa)  Volume Uncertainty  \\\n",
       "0        107.881     26.97025             0.2             0.00750   \n",
       "1        107.461     26.86525             0.4             0.00750   \n",
       "2        105.618     26.40450             1.4             0.00750   \n",
       "3        104.589     26.14725             2.1             0.00750   \n",
       "4        103.096     25.77400             3.0             0.00750   \n",
       "5        102.366     25.59150             3.5             0.00625   \n",
       "6        101.528     25.38200             4.1             0.00625   \n",
       "7        100.816     25.20400             4.6             0.00625   \n",
       "8        100.139     25.03475             5.1             0.00625   \n",
       "9         99.113     24.77825             5.9             0.00625   \n",
       "10        98.345     24.58625             6.5             0.00625   \n",
       "11        97.561     24.39025             7.2             0.00625   \n",
       "12        96.797     24.19925             7.9             0.00625   \n",
       "13        95.972     23.99300             8.8             0.00625   \n",
       "14        95.091     23.77275             9.5             0.00625   \n",
       "15        93.896     23.47400            10.8             0.00750   \n",
       "\n",
       "    Pressure Uncertainty  \n",
       "0                    0.1  \n",
       "1                    0.1  \n",
       "2                    0.1  \n",
       "3                    0.1  \n",
       "4                    0.1  \n",
       "5                    0.1  \n",
       "6                    0.1  \n",
       "7                    0.1  \n",
       "8                    0.1  \n",
       "9                    0.1  \n",
       "10                   0.1  \n",
       "11                   0.1  \n",
       "12                   0.1  \n",
       "13                   0.1  \n",
       "14                   0.1  \n",
       "15                   0.1  "
      ]
     },
     "execution_count": 3,
     "metadata": {},
     "output_type": "execute_result"
    }
   ],
   "source": [
    "beta_tin"
   ]
  },
  {
   "cell_type": "code",
   "execution_count": 4,
   "metadata": {},
   "outputs": [],
   "source": [
    "vals = beta_tin.values.T\n",
    "volatom = vals[1]\n",
    "pressure = vals[2]\n",
    "vol_var = vals[3]**2\n",
    "pressure_var = vals[4]**2"
   ]
  },
  {
   "cell_type": "code",
   "execution_count": 5,
   "metadata": {},
   "outputs": [
    {
     "data": {
      "text/plain": [
       "<matplotlib.collections.PathCollection at 0x2856cb0f4a8>"
      ]
     },
     "execution_count": 5,
     "metadata": {},
     "output_type": "execute_result"
    },
    {
     "data": {
      "image/png": "[encoded data removed]",
      "text/plain": [
       "<Figure size 432x288 with 1 Axes>"
      ]
     },
     "metadata": {
      "needs_background": "light"
     },
     "output_type": "display_data"
    }
   ],
   "source": [
    "plt.title(r'$\\beta$ Sn')\n",
    "plt.xlabel('Pressure (GPa)')\n",
    "plt.ylabel(r'Volume ($\\AA$/atom)')\n",
    "plt.scatter(pressure, volatom)"
   ]
  },
  {
   "cell_type": "code",
   "execution_count": 6,
   "metadata": {},
   "outputs": [],
   "source": [
    "def P(V, K0, K0p, V0):\n",
    "    return 1.5*K0*((V0/V)**(7/3) - (V0/V)**(5/3))*(1+0.75*(K0p-4)*((V0/V)**(2/3)-1))"
   ]
  },
  {
   "cell_type": "code",
   "execution_count": 7,
   "metadata": {},
   "outputs": [],
   "source": [
    "opts, cov = curve_fit(P, volatom, pressure, p0=[54.7, 4.5, 27.06])\n",
    "K0, K0p, Vp = opts\n",
    "K0_var = cov[0,0]\n",
    "K0p_var = cov[1,1]\n",
    "Vp_var = cov[2,2]"
   ]
  },
  {
   "cell_type": "code",
   "execution_count": 8,
   "metadata": {},
   "outputs": [
    {
     "data": {
      "text/plain": [
       "array([54.77940738,  4.53538573, 27.06686266])"
      ]
     },
     "execution_count": 8,
     "metadata": {},
     "output_type": "execute_result"
    }
   ],
   "source": [
    "opts"
   ]
  },
  {
   "cell_type": "code",
   "execution_count": 9,
   "metadata": {},
   "outputs": [
    {
     "data": {
      "text/plain": [
       "array([[ 8.29314402e-01, -1.72770966e-01, -1.17894187e-02],\n",
       "       [-1.72770966e-01,  3.93753839e-02,  2.11731511e-03],\n",
       "       [-1.17894187e-02,  2.11731511e-03,  2.15775903e-04]])"
      ]
     },
     "execution_count": 9,
     "metadata": {},
     "output_type": "execute_result"
    }
   ],
   "source": [
    "cov"
   ]
  },
  {
   "cell_type": "code",
   "execution_count": 10,
   "metadata": {},
   "outputs": [],
   "source": [
    "def f(V, Vp):\n",
    "    return 0.5 * ((Vp/V)**(2/3)-1)\n",
    "\n",
    "def F(f,P):\n",
    "    return P/(3*f*(1+2*f)**(5/2))\n",
    "\n",
    "def f_var(V,Vp,V_var,Vp_var):\n",
    "    return Vp**(4/3)*V**(-10/3)/9*V_var + Vp**(-2/3)*V**(-4/3)/9*Vp_var\n",
    "\n",
    "def F_var(f,P,f_var,P_var):\n",
    "    return P_var*f**(-2)*(1+2*f)**(-5)/9 + P**2*(4+3*f)**2*f_var*f**(-4)*(1+2*f)**(-7)/144"
   ]
  },
  {
   "cell_type": "code",
   "execution_count": 11,
   "metadata": {},
   "outputs": [],
   "source": [
    "fbeta = f(volatom, 27.06)\n",
    "Fbeta = F(fbeta,pressure)\n",
    "\n",
    "f_unc = f_var(volatom, Vp, vol_var, Vp_var)\n",
    "F_unc  = np.sqrt(F_var(fbeta, pressure, f_unc, pressure_var))"
   ]
  },
  {
   "cell_type": "code",
   "execution_count": 12,
   "metadata": {},
   "outputs": [
    {
     "data": {
      "text/plain": [
       "<ErrorbarContainer object of 3 artists>"
      ]
     },
     "execution_count": 12,
     "metadata": {},
     "output_type": "execute_result"
    },
    {
     "data": {
      "image/png": "[encoded data removed]",
      "text/plain": [
       "<Figure size 432x288 with 1 Axes>"
      ]
     },
     "metadata": {
      "needs_background": "light"
     },
     "output_type": "display_data"
    }
   ],
   "source": [
    "plt.errorbar(fbeta, Fbeta, yerr=F_unc, fmt='k.')"
   ]
  },
  {
   "cell_type": "code",
   "execution_count": 13,
   "metadata": {},
   "outputs": [],
   "source": [
    "def linearlizedF(f, K, Kp):\n",
    "    return Kp*f + K"
   ]
  },
  {
   "cell_type": "code",
   "execution_count": 14,
   "metadata": {},
   "outputs": [],
   "source": [
    "params, Cov = curve_fit(linearlizedF, fbeta, Fbeta, p0=[54.7, 4], sigma=F_unc)"
   ]
  },
  {
   "cell_type": "code",
   "execution_count": 15,
   "metadata": {},
   "outputs": [
    {
     "data": {
      "text/plain": [
       "array([55.160102  , 38.58122609])"
      ]
     },
     "execution_count": 15,
     "metadata": {},
     "output_type": "execute_result"
    }
   ],
   "source": [
    "params"
   ]
  },
  {
   "cell_type": "code",
   "execution_count": 16,
   "metadata": {},
   "outputs": [
    {
     "data": {
      "text/plain": [
       "array([[  0.17369671,  -4.2860838 ],\n",
       "       [ -4.2860838 , 112.30194103]])"
      ]
     },
     "execution_count": 16,
     "metadata": {},
     "output_type": "execute_result"
    }
   ],
   "source": [
    "Cov"
   ]
  },
  {
   "cell_type": "code",
   "execution_count": null,
   "metadata": {},
   "outputs": [],
   "source": []
  }
 ],
 "metadata": {
  "kernelspec": {
   "display_name": "Python 3",
   "language": "python",
   "name": "python3"
  },
  "language_info": {
   "codemirror_mode": {
    "name": "ipython",
    "version": 3
   },
   "file_extension": ".py",
   "mimetype": "text/x-python",
   "name": "python",
   "nbconvert_exporter": "python",
   "pygments_lexer": "ipython3",
   "version": "3.6.5"
  }
 },
 "nbformat": 4,
 "nbformat_minor": 2
}

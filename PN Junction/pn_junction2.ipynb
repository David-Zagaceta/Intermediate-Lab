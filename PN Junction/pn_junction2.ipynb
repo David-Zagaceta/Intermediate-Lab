{
 "cells": [
  {
   "cell_type": "code",
   "execution_count": 1,
   "metadata": {},
   "outputs": [],
   "source": [
    "import numpy as np\n",
    "import matplotlib.pyplot as plt\n",
    "import pandas as pd\n",
    "from scipy.optimize import curve_fit"
   ]
  },
  {
   "cell_type": "code",
   "execution_count": 2,
   "metadata": {},
   "outputs": [],
   "source": [
    "def diode_equation(VT, Id, n):\n",
    "    e = 1.602e-19\n",
    "    kb = 1.38e-23\n",
    "    return Id*(np.exp(VT*e/kb/n)-1)\n",
    "\n",
    "def diode_equation_error(VT, Id, n, VT_err, Id_err, n_err):\n",
    "    # varaince calculation\n",
    "    e = 1.602e-19\n",
    "    kb = 1.38e-23\n",
    "    return (Id*e/kb/n)**2*np.exp(2*e*VT/kb/n)*VT_err + (np.exp(e*VT/kb/n)-1)**2*Id_err + (Id*e*VT/kb*n**(-2))**2*np.exp(2*e*VT/kb/n)*n_err\n",
    "\n",
    "def chi_squared(exp, th, err):\n",
    "    if len(exp) != len(th):\n",
    "        raise ValueError('dimensions do not match')\n",
    "        \n",
    "    return {'theoretical_chi_2':len(exp), 'chi2_deviation':np.sqrt(2*len(exp)), 'calculated_chi2':np.sum((exp-th)**2/err)}\n",
    "\n",
    "n_array = []\n",
    "T_array = []\n",
    "I_array = []"
   ]
  },
  {
   "cell_type": "code",
   "execution_count": 3,
   "metadata": {},
   "outputs": [
    {
     "name": "stdout",
     "output_type": "stream",
     "text": [
      "   Applied Voltage  Resistor Voltage  Temperature  Voltage Uncertainty  \\\n",
      "0            0.336             0.173         30.2                0.001   \n",
      "1            0.554             0.353         30.2                0.001   \n",
      "2            0.801             0.577         30.2                0.001   \n",
      "3            1.119             0.872         30.2                0.001   \n",
      "4            1.512             1.248         30.2                0.001   \n",
      "5            1.795             1.520         30.2                0.001   \n",
      "\n",
      "   Temperature Uncertainty  \n",
      "0                      0.1  \n",
      "1                      0.1  \n",
      "2                      0.1  \n",
      "3                      0.1  \n",
      "4                      0.1  \n",
      "5                      0.1  \n",
      "Saturation current 7.667002269567657e-10 amps with error 4.017616823144719e-21 amps \n",
      "Ideality factor 1.986181366322789 with error 0.001041143330315443\n"
     ]
    }
   ],
   "source": [
    "#load data\n",
    "df = pd.read_excel('pn_junction_30.2.xlsx')\n",
    "print(df)\n",
    "\n",
    "# populate data \n",
    "resistance = 10e6\n",
    "data = df.values.T\n",
    "V_diode = data[0] - data[1]\n",
    "I_meas = data[1] / resistance\n",
    "temps = data[2]+273.15\n",
    "ins = V_diode/temps\n",
    "outs = I_meas\n",
    "ins_unc = ((data[3]/V_diode)**2 + (data[4]/temps)**2)*(V_diode/temps)**2\n",
    "\n",
    "\n",
    "# initial fit\n",
    "init = [10e-9,2]\n",
    "params, cov = curve_fit(diode_equation, ins, outs, p0=init)\n",
    "\n",
    "Id = params[0]\n",
    "Id_error = cov[0,0]\n",
    "\n",
    "T_array.append(temps[0])\n",
    "I_array.append(Id)\n",
    "\n",
    "n = params[1]\n",
    "n_array.append(n)\n",
    "n_error = cov[1,1]\n",
    "\n",
    "err = diode_equation_error(ins, Id, n, ins_unc, Id_error, n_error)\n",
    "\n",
    "print('Saturation current {} amps with error {} amps \\nIdeality factor {} with error {}'.format(Id,Id_error,n,n_error))\n",
    "\n"
   ]
  },
  {
   "cell_type": "code",
   "execution_count": 4,
   "metadata": {},
   "outputs": [
    {
     "name": "stdout",
     "output_type": "stream",
     "text": [
      "   Applied Voltage  Resistor Voltage  Temperature  Voltage Uncertainty  \\\n",
      "0            0.426             0.274           40                0.001   \n",
      "1            1.066             0.854           40                0.001   \n",
      "2            1.463             1.231           40                0.001   \n",
      "3            1.819             1.574           40                0.001   \n",
      "4            2.247             1.989           40                0.001   \n",
      "5            2.727             2.459           40                0.001   \n",
      "6            3.097             2.820           40                0.001   \n",
      "\n",
      "   Temperature Uncertainty  \n",
      "0                      0.1  \n",
      "1                      0.1  \n",
      "2                      0.1  \n",
      "3                      0.1  \n",
      "4                      0.1  \n",
      "5                      0.1  \n",
      "6                      0.1  \n",
      "Saturation current 1.798826428517746e-09 amps with error 2.360852236547153e-20 amps \n",
      "Ideality factor 2.025306011827018 with error 0.001271037264844317\n"
     ]
    }
   ],
   "source": [
    "#load data\n",
    "df = pd.read_excel('pn_junction_40.0.xlsx')\n",
    "print(df)\n",
    "\n",
    "# populate data \n",
    "resistance = 10e6\n",
    "data = df.values.T\n",
    "V_diode = data[0] - data[1]\n",
    "I_meas = data[1] / resistance\n",
    "temps = data[2]+273.15\n",
    "ins = V_diode/temps\n",
    "outs = I_meas\n",
    "ins_unc = ((data[3]/V_diode)**2 + (data[4]/temps)**2)*(V_diode/temps)**2\n",
    "\n",
    "\n",
    "# initial fit\n",
    "init = [10e-9,2]\n",
    "params, cov = curve_fit(diode_equation, ins, outs, p0=init)\n",
    "\n",
    "Id = params[0]\n",
    "Id_error = cov[0,0]\n",
    "\n",
    "T_array.append(temps[0])\n",
    "I_array.append(Id)\n",
    "\n",
    "n = params[1]\n",
    "n_array.append(n)\n",
    "\n",
    "n_error = cov[1,1]\n",
    "\n",
    "err = diode_equation_error(ins, Id, n, ins_unc, Id_error, n_error)\n",
    "\n",
    "print('Saturation current {} amps with error {} amps \\nIdeality factor {} with error {}'.format(Id,Id_error,n,n_error))\n",
    "\n",
    "#weighted fit\n"
   ]
  },
  {
   "cell_type": "code",
   "execution_count": 5,
   "metadata": {},
   "outputs": [
    {
     "name": "stdout",
     "output_type": "stream",
     "text": [
      "   Applied Voltage  Resistor Voltage  Temperature  Voltage Uncertainty  \\\n",
      "0            0.250             0.148         45.2                0.001   \n",
      "1            0.722             0.551         45.2                0.001   \n",
      "2            1.354             1.144         45.2                0.001   \n",
      "3            1.529             1.313         45.2                0.001   \n",
      "4            1.718             1.493         45.2                0.001   \n",
      "5            2.111             1.875         45.2                0.001   \n",
      "6            2.428             2.183         45.2                0.001   \n",
      "\n",
      "   Temperature Uncertainty  \n",
      "0                      0.1  \n",
      "1                      0.1  \n",
      "2                      0.1  \n",
      "3                      0.1  \n",
      "4                      0.1  \n",
      "5                      0.1  \n",
      "6                      0.1  \n",
      "Saturation current 2.677976968679068e-09 amps with error 4.6958646379837696e-20 amps \n",
      "Ideality factor 2.0231315633214497 with error 0.0014940712068393072\n"
     ]
    }
   ],
   "source": [
    "#load data\n",
    "df = pd.read_excel('pn_junction_45.2.xlsx')\n",
    "print(df)\n",
    "\n",
    "# populate data \n",
    "resistance = 10e6\n",
    "data = df.values.T\n",
    "V_diode = data[0] - data[1]\n",
    "I_meas = data[1] / resistance\n",
    "temps = data[2]+273.15\n",
    "ins = V_diode/temps\n",
    "outs = I_meas\n",
    "ins_unc = ((data[3]/V_diode)**2 + (data[4]/temps)**2)*(V_diode/temps)**2\n",
    "\n",
    "\n",
    "# initial fit\n",
    "init = [10e-9,2]\n",
    "params, cov = curve_fit(diode_equation, ins, outs, p0=init)\n",
    "\n",
    "Id = params[0]\n",
    "Id_error = cov[0,0]\n",
    "\n",
    "T_array.append(temps[0])\n",
    "I_array.append(Id)\n",
    "\n",
    "n = params[1]\n",
    "n_array.append(n)\n",
    "\n",
    "n_error = cov[1,1]\n",
    "\n",
    "err = diode_equation_error(ins, Id, n, ins_unc, Id_error, n_error)\n",
    "\n",
    "print('Saturation current {} amps with error {} amps \\nIdeality factor {} with error {}'.format(Id,Id_error,n,n_error))\n",
    "\n",
    "#weighted fit\n"
   ]
  },
  {
   "cell_type": "code",
   "execution_count": 6,
   "metadata": {},
   "outputs": [
    {
     "name": "stdout",
     "output_type": "stream",
     "text": [
      "   Applied Voltage  Resistor Voltage  Temperature  Voltage Uncertainty  \\\n",
      "0            0.310             0.213           50                0.001   \n",
      "1            0.832             0.666           50                0.001   \n",
      "2            0.968             0.792           50                0.001   \n",
      "3            1.490             1.289           50                0.001   \n",
      "4            1.622             1.416           50                0.001   \n",
      "5            1.825             1.613           50                0.001   \n",
      "\n",
      "   Temperature Uncertainty  \n",
      "0                      0.1  \n",
      "1                      0.1  \n",
      "2                      0.1  \n",
      "3                      0.1  \n",
      "4                      0.1  \n",
      "5                      0.1  \n",
      "Saturation current 3.4247997065195256e-09 amps with error 2.942630693793086e-19 amps \n",
      "Ideality factor 1.972568952742489 with error 0.006853180675245454\n"
     ]
    }
   ],
   "source": [
    "#load data\n",
    "df = pd.read_excel('pn_junction_50.0.xlsx')\n",
    "print(df)\n",
    "\n",
    "# populate data \n",
    "resistance = 10e6\n",
    "data = df.values.T\n",
    "V_diode = data[0] - data[1]\n",
    "I_meas = data[1] / resistance\n",
    "temps = data[2]+273.15\n",
    "ins = V_diode/temps\n",
    "outs = I_meas\n",
    "ins_unc = ((data[3]/V_diode)**2 + (data[4]/temps)**2)*(V_diode/temps)**2\n",
    "\n",
    "\n",
    "# initial fit\n",
    "init = [10e-9,2]\n",
    "params, cov = curve_fit(diode_equation, ins, outs, p0=init)\n",
    "\n",
    "Id = params[0]\n",
    "Id_error = cov[0,0]\n",
    "\n",
    "T_array.append(temps[0])\n",
    "I_array.append(Id)\n",
    "\n",
    "n = params[1]\n",
    "n_error = cov[1,1]\n",
    "n_array.append(n)\n",
    "\n",
    "\n",
    "err = diode_equation_error(ins, Id, n, ins_unc, Id_error, n_error)\n",
    "\n",
    "print('Saturation current {} amps with error {} amps \\nIdeality factor {} with error {}'.format(Id,Id_error,n,n_error))\n",
    "\n",
    "#weighted fit\n"
   ]
  },
  {
   "cell_type": "code",
   "execution_count": 7,
   "metadata": {},
   "outputs": [
    {
     "name": "stdout",
     "output_type": "stream",
     "text": [
      "   Applied Voltage  Resistor Voltage  Temperature  Voltage Uncertainty  \\\n",
      "0            0.485             0.365         55.1                0.001   \n",
      "1            0.744             0.600         55.1                0.001   \n",
      "2            1.242             1.068         55.1                0.001   \n",
      "3            1.595             1.406         55.1                0.001   \n",
      "4            1.826             1.629         55.1                0.001   \n",
      "5            2.206             1.996         55.1                0.001   \n",
      "6            2.537             2.318         55.1                0.001   \n",
      "7            2.714             2.493         55.1                0.001   \n",
      "\n",
      "   Temperature Uncertainty  \n",
      "0                      0.1  \n",
      "1                      0.1  \n",
      "2                      0.1  \n",
      "3                      0.1  \n",
      "4                      0.1  \n",
      "5                      0.1  \n",
      "6                      0.1  \n",
      "7                      0.1  \n",
      "Saturation current 5.6177116523437395e-09 amps with error 2.7283513296129345e-19 amps \n",
      "Ideality factor 2.0577317008121856 with error 0.0026797235614481746\n"
     ]
    }
   ],
   "source": [
    "#load data\n",
    "df = pd.read_excel('pn_junction_55.1.xlsx')\n",
    "print(df)\n",
    "\n",
    "# populate data \n",
    "resistance = 10e6\n",
    "data = df.values.T\n",
    "V_diode = data[0] - data[1]\n",
    "I_meas = data[1] / resistance\n",
    "temps = data[2]+273.15\n",
    "ins = V_diode/temps\n",
    "outs = I_meas\n",
    "ins_unc = ((data[3]/V_diode)**2 + (data[4]/temps)**2)*(V_diode/temps)**2\n",
    "\n",
    "\n",
    "# initial fit\n",
    "init = [10e-9,2]\n",
    "params, cov = curve_fit(diode_equation, ins, outs, p0=init)\n",
    "\n",
    "Id = params[0]\n",
    "Id_error = cov[0,0]\n",
    "\n",
    "T_array.append(temps[0])\n",
    "I_array.append(Id)\n",
    "\n",
    "n = params[1]\n",
    "n_array.append(n)\n",
    "n_error = cov[1,1]\n",
    "\n",
    "err = diode_equation_error(ins, Id, n, ins_unc, Id_error, n_error)\n",
    "\n",
    "print('Saturation current {} amps with error {} amps \\nIdeality factor {} with error {}'.format(Id,Id_error,n,n_error))\n",
    "\n",
    "#weighted fit\n"
   ]
  },
  {
   "cell_type": "code",
   "execution_count": 8,
   "metadata": {},
   "outputs": [
    {
     "name": "stdout",
     "output_type": "stream",
     "text": [
      "   Applied Voltage  Resistor Voltage  Temperature  Voltage Uncertainty  \\\n",
      "0            0.345             0.254         60.1                0.001   \n",
      "1            0.599             0.480         60.1                0.001   \n",
      "2            0.737             0.607         60.1                0.001   \n",
      "3            0.948             0.804         60.1                0.001   \n",
      "4            1.248             1.088         60.1                0.001   \n",
      "5            1.537             1.365         60.1                0.001   \n",
      "6            1.882             1.699         60.1                0.001   \n",
      "7            2.248             2.053         60.1                0.001   \n",
      "\n",
      "   Temperature Uncertainty  \n",
      "0                      0.1  \n",
      "1                      0.1  \n",
      "2                      0.1  \n",
      "3                      0.1  \n",
      "4                      0.1  \n",
      "5                      0.1  \n",
      "6                      0.1  \n",
      "7                      0.1  \n",
      "Saturation current 6.772558828720184e-09 amps with error 1.556817486743501e-19 amps \n",
      "Ideality factor 1.96559853403279 with error 0.0011986129802887381\n"
     ]
    }
   ],
   "source": [
    "#load data\n",
    "df = pd.read_excel('pn_junction_60.1.xlsx')\n",
    "print(df)\n",
    "\n",
    "# populate data \n",
    "resistance = 10e6\n",
    "data = df.values.T\n",
    "V_diode = data[0] - data[1]\n",
    "I_meas = data[1] / resistance\n",
    "temps = data[2]+273.15\n",
    "ins = V_diode/temps\n",
    "outs = I_meas\n",
    "ins_unc = ((data[3]/V_diode)**2 + (data[4]/temps)**2)*(V_diode/temps)**2\n",
    "\n",
    "\n",
    "# initial fit\n",
    "init = [10e-9,2]\n",
    "params, cov = curve_fit(diode_equation, ins, outs, p0=init)\n",
    "\n",
    "Id = params[0]\n",
    "Id_error = cov[0,0]\n",
    "\n",
    "T_array.append(temps[0])\n",
    "I_array.append(Id)\n",
    "\n",
    "n = params[1]\n",
    "n_array.append(n)\n",
    "\n",
    "n_error = cov[1,1]\n",
    "\n",
    "err = diode_equation_error(ins, Id, n, ins_unc, Id_error, n_error)\n",
    "\n",
    "print('Saturation current {} amps with error {} amps \\nIdeality factor {} with error {}'.format(Id,Id_error,n,n_error))\n",
    "\n"
   ]
  },
  {
   "cell_type": "code",
   "execution_count": 21,
   "metadata": {
    "scrolled": true
   },
   "outputs": [],
   "source": [
    "I_array = np.log(I_array)"
   ]
  },
  {
   "cell_type": "code",
   "execution_count": 13,
   "metadata": {},
   "outputs": [],
   "source": [
    "nbar = np.average(n_array)"
   ]
  },
  {
   "cell_type": "code",
   "execution_count": 26,
   "metadata": {},
   "outputs": [],
   "source": [
    "T_array = np.array(T_array)\n",
    "x = 1/nbar/1.38e-23/T_array\n",
    "\n",
    "def bandgap(x, c, E):\n",
    "    return np.log(c)+(-E*x)\n",
    "\n"
   ]
  },
  {
   "cell_type": "code",
   "execution_count": 28,
   "metadata": {},
   "outputs": [],
   "source": [
    "params, cov = curve_fit(bandgap,x, I_array, p0=[1, 1.1])"
   ]
  },
  {
   "cell_type": "code",
   "execution_count": 29,
   "metadata": {},
   "outputs": [
    {
     "name": "stdout",
     "output_type": "stream",
     "text": [
      "1.2883282685686344\n"
     ]
    }
   ],
   "source": [
    "Eg = params[1]*6.242e18\n",
    "print(Eg)"
   ]
  },
  {
   "cell_type": "code",
   "execution_count": 30,
   "metadata": {},
   "outputs": [
    {
     "name": "stdout",
     "output_type": "stream",
     "text": [
      "2.082386776393023e-11\n"
     ]
    }
   ],
   "source": [
    "var = cov[1,1]*6.242e18\n",
    "print(np.sqrt(var))"
   ]
  },
  {
   "cell_type": "code",
   "execution_count": null,
   "metadata": {},
   "outputs": [],
   "source": []
  }
 ],
 "metadata": {
  "kernelspec": {
   "display_name": "Python 3",
   "language": "python",
   "name": "python3"
  },
  "language_info": {
   "codemirror_mode": {
    "name": "ipython",
    "version": 3
   },
   "file_extension": ".py",
   "mimetype": "text/x-python",
   "name": "python",
   "nbconvert_exporter": "python",
   "pygments_lexer": "ipython3",
   "version": "3.6.5"
  }
 },
 "nbformat": 4,
 "nbformat_minor": 2
}

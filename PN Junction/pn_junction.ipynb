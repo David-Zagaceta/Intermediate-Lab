{
 "cells": [
  {
   "cell_type": "code",
   "execution_count": 1,
   "metadata": {},
   "outputs": [],
   "source": [
    "import numpy as np\n",
    "import matplotlib.pyplot as plt\n",
    "import pandas as pd\n",
    "from scipy.optimize import curve_fit"
   ]
  },
  {
   "cell_type": "code",
   "execution_count": 2,
   "metadata": {},
   "outputs": [],
   "source": [
    "def diode_equation(VT, Id, n):\n",
    "    e = 1.602e-19\n",
    "    kb = 1.38e-23\n",
    "    return Id*(np.exp(VT*e/kb/n)-1)\n",
    "\n",
    "def diode_equation_error(VT, Id, n, VT_err, Id_err, n_err):\n",
    "    # varaince calculation\n",
    "    e = 1.602e-19\n",
    "    kb = 1.38e-23\n",
    "    return (Id*e/kb/n)**2*np.exp(2*e*VT/kb/n)*VT_err + (np.exp(e*VT/kb/n)-1)**2*Id_err + (Id*e*VT/kb*n**(-2))**2*np.exp(2*e*VT/kb/n)*n_err\n",
    "\n",
    "def chi_squared(exp, th, err):\n",
    "    if len(exp) != len(th):\n",
    "        raise ValueError('dimensions do not match')\n",
    "        \n",
    "    return {'theoretical_chi_2':len(exp), 'chi2_deviation':np.sqrt(2*len(exp)), 'calculated_chi2':np.sum((exp-th)**2/err)}"
   ]
  },
  {
   "cell_type": "code",
   "execution_count": 3,
   "metadata": {},
   "outputs": [
    {
     "data": {
      "text/html": [
       "<div>\n",
       "<style scoped>\n",
       "    .dataframe tbody tr th:only-of-type {\n",
       "        vertical-align: middle;\n",
       "    }\n",
       "\n",
       "    .dataframe tbody tr th {\n",
       "        vertical-align: top;\n",
       "    }\n",
       "\n",
       "    .dataframe thead th {\n",
       "        text-align: right;\n",
       "    }\n",
       "</style>\n",
       "<table border=\"1\" class=\"dataframe\">\n",
       "  <thead>\n",
       "    <tr style=\"text-align: right;\">\n",
       "      <th></th>\n",
       "      <th>Applied Voltage</th>\n",
       "      <th>Resistor Voltage</th>\n",
       "      <th>Temperature</th>\n",
       "      <th>Voltage Uncertainty</th>\n",
       "      <th>Temperature Uncertainty</th>\n",
       "    </tr>\n",
       "  </thead>\n",
       "  <tbody>\n",
       "    <tr>\n",
       "      <th>0</th>\n",
       "      <td>0.336</td>\n",
       "      <td>0.173</td>\n",
       "      <td>30.2</td>\n",
       "      <td>0.001</td>\n",
       "      <td>0.1</td>\n",
       "    </tr>\n",
       "    <tr>\n",
       "      <th>1</th>\n",
       "      <td>0.554</td>\n",
       "      <td>0.353</td>\n",
       "      <td>30.2</td>\n",
       "      <td>0.001</td>\n",
       "      <td>0.1</td>\n",
       "    </tr>\n",
       "    <tr>\n",
       "      <th>2</th>\n",
       "      <td>0.801</td>\n",
       "      <td>0.577</td>\n",
       "      <td>30.2</td>\n",
       "      <td>0.001</td>\n",
       "      <td>0.1</td>\n",
       "    </tr>\n",
       "    <tr>\n",
       "      <th>3</th>\n",
       "      <td>1.119</td>\n",
       "      <td>0.872</td>\n",
       "      <td>30.2</td>\n",
       "      <td>0.001</td>\n",
       "      <td>0.1</td>\n",
       "    </tr>\n",
       "    <tr>\n",
       "      <th>4</th>\n",
       "      <td>1.512</td>\n",
       "      <td>1.248</td>\n",
       "      <td>30.2</td>\n",
       "      <td>0.001</td>\n",
       "      <td>0.1</td>\n",
       "    </tr>\n",
       "    <tr>\n",
       "      <th>5</th>\n",
       "      <td>1.795</td>\n",
       "      <td>1.520</td>\n",
       "      <td>30.2</td>\n",
       "      <td>0.001</td>\n",
       "      <td>0.1</td>\n",
       "    </tr>\n",
       "  </tbody>\n",
       "</table>\n",
       "</div>"
      ],
      "text/plain": [
       "   Applied Voltage  Resistor Voltage  Temperature  Voltage Uncertainty  \\\n",
       "0            0.336             0.173         30.2                0.001   \n",
       "1            0.554             0.353         30.2                0.001   \n",
       "2            0.801             0.577         30.2                0.001   \n",
       "3            1.119             0.872         30.2                0.001   \n",
       "4            1.512             1.248         30.2                0.001   \n",
       "5            1.795             1.520         30.2                0.001   \n",
       "\n",
       "   Temperature Uncertainty  \n",
       "0                      0.1  \n",
       "1                      0.1  \n",
       "2                      0.1  \n",
       "3                      0.1  \n",
       "4                      0.1  \n",
       "5                      0.1  "
      ]
     },
     "execution_count": 3,
     "metadata": {},
     "output_type": "execute_result"
    }
   ],
   "source": [
    "df = pd.read_excel('pn_junction_30.2.xlsx')\n",
    "df"
   ]
  },
  {
   "cell_type": "code",
   "execution_count": 4,
   "metadata": {},
   "outputs": [],
   "source": [
    "resistance = 10e6\n",
    "data = df.values.T\n",
    "V_diode = data[0] - data[1]\n",
    "I_meas = data[1] / resistance\n",
    "temps = data[2]+273.15\n",
    "ins = V_diode/temps\n",
    "outs = I_meas\n",
    "ins_unc = ((data[3]/V_diode)**2 + (data[4]/temps)**2)*(V_diode/temps)**2"
   ]
  },
  {
   "cell_type": "code",
   "execution_count": 5,
   "metadata": {},
   "outputs": [
    {
     "name": "stdout",
     "output_type": "stream",
     "text": [
      "Saturation current 7.667002227721072e-10 amps with error 4.017616671102083e-21 amps \n",
      "Ideality factor 1.986181364174956 with error 0.0010411433113352746\n"
     ]
    }
   ],
   "source": [
    "init = [10e-9,2]\n",
    "params, cov = curve_fit(diode_equation, ins, outs, p0=init)\n",
    "\n",
    "Id = params[0]\n",
    "Id_error = cov[0,0]\n",
    "\n",
    "n = params[1]\n",
    "n_error = cov[1,1]\n",
    "\n",
    "err = diode_equation_error(ins, Id, n, ins_unc, Id_error, n_error)\n",
    "\n",
    "print('Saturation current {} amps with error {} amps \\nIdeality factor {} with error {}'.format(Id,Id_error,n,n_error))"
   ]
  },
  {
   "cell_type": "code",
   "execution_count": 7,
   "metadata": {},
   "outputs": [
    {
     "name": "stdout",
     "output_type": "stream",
     "text": [
      "Saturation current 8.818384673015002e-10 amps with error 1.470833737602632e-20 amps \n",
      "Ideality factor 2.0407420206245934 with error 0.0029891573929707064\n"
     ]
    }
   ],
   "source": [
    "init = [10e-9,2]\n",
    "params, cov = curve_fit(diode_equation, ins, outs, p0=init, sigma=1/err)\n",
    "\n",
    "Id = params[0]\n",
    "Id_error = cov[0,0]\n",
    "\n",
    "n = params[1]\n",
    "n_error = cov[1,1]\n",
    "\n",
    "err = diode_equation_error(ins, Id, n, ins_unc, Id_error, n_error)\n",
    "\n",
    "print('Saturation current {} amps with error {} amps \\nIdeality factor {} with error {}'.format(Id,Id_error,n,n_error))"
   ]
  }
 ],
 "metadata": {
  "kernelspec": {
   "display_name": "Python 3",
   "language": "python",
   "name": "python3"
  },
  "language_info": {
   "codemirror_mode": {
    "name": "ipython",
    "version": 3
   },
   "file_extension": ".py",
   "mimetype": "text/x-python",
   "name": "python",
   "nbconvert_exporter": "python",
   "pygments_lexer": "ipython3",
   "version": "3.6.5"
  }
 },
 "nbformat": 4,
 "nbformat_minor": 2
}

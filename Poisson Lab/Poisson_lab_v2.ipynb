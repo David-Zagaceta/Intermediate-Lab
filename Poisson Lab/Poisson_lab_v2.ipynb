{
 "cells": [
  {
   "cell_type": "code",
   "execution_count": 1,
   "metadata": {},
   "outputs": [],
   "source": [
    "import numpy as np\n",
    "import matplotlib.pyplot as plt\n",
    "%matplotlib inline\n",
    "import pandas as pd\n",
    "from scipy.stats import poisson\n",
    "\n",
    "def norm(x, mean):\n",
    "    return np.exp(-(x-mean)**2/2/mean) / np.sqrt(2*np.pi*mean)"
   ]
  },
  {
   "cell_type": "code",
   "execution_count": 14,
   "metadata": {},
   "outputs": [
    {
     "data": {
      "image/png": "[encoded data removed]",
      "text/plain": [
       "<Figure size 432x288 with 1 Axes>"
      ]
     },
     "metadata": {
      "needs_background": "light"
     },
     "output_type": "display_data"
    }
   ],
   "source": [
    "df = pd.read_excel('geiger_calibration.xlsx')\n",
    "X = df.values\n",
    "for i in range(1, len(X[0])):\n",
    "    plt.scatter(X[:, 0], X[:,i])\n",
    "    \n",
    "plt.ylabel('Counts')\n",
    "plt.xlabel('Voltage')\n",
    "plt.legend(['First Trial','Second Trial','Third Trial','Fourth Trial','Fifth Trial'])\n",
    "plt.savefig('geiger.png')"
   ]
  },
  {
   "cell_type": "code",
   "execution_count": 3,
   "metadata": {},
   "outputs": [
    {
     "data": {
      "image/png": "[encoded data removed]",
      "text/plain": [
       "<Figure size 432x288 with 4 Axes>"
      ]
     },
     "metadata": {
      "needs_background": "light"
     },
     "output_type": "display_data"
    }
   ],
   "source": [
    "fig, ax = plt.subplots(nrows=2, ncols=2)"
   ]
  },
  {
   "cell_type": "code",
   "execution_count": 4,
   "metadata": {},
   "outputs": [
    {
     "name": "stdout",
     "output_type": "stream",
     "text": [
      "                   mean      std      var  mean error  var error    delta  \\\n",
      "mean               2.25  1.61954  2.62291    0.086603   0.162289  0.37291   \n",
      "std                2.25  1.61954  2.62291    0.086603   0.162289  0.37291   \n",
      "var                2.25  1.61954  2.62291    0.086603   0.162289  0.37291   \n",
      "mean error         2.25  1.61954  2.62291    0.086603   0.162289  0.37291   \n",
      "var error          2.25  1.61954  2.62291    0.086603   0.162289  0.37291   \n",
      "delta              2.25  1.61954  2.62291    0.086603   0.162289  0.37291   \n",
      "delta uncertainty  2.25  1.61954  2.62291    0.086603   0.162289  0.37291   \n",
      "\n",
      "                   delta uncertainty  \n",
      "mean                        0.183951  \n",
      "std                         0.183951  \n",
      "var                         0.183951  \n",
      "mean error                  0.183951  \n",
      "var error                   0.183951  \n",
      "delta                       0.183951  \n",
      "delta uncertainty           0.183951  \n",
      "\n",
      "raw bins [0 1 2 3 4 5 6 7 9] \n",
      "raw counts [37 68 84 53 30 16  6  5  1]\n",
      "\n",
      "Binned counts [37, 68, 84, 53, 30, 16, 6, 6]\n",
      "\n",
      " these should be 1 1.0 1.0\n",
      "\n",
      "\n",
      " Poisson uncertainties [5.31855887 7.36699994 7.66055996 6.92942195 5.47406583 3.79803069\n",
      " 2.36426761 1.57816159] \n",
      "\n",
      "Gaussian uncertainties [4.86486157 6.7665206  7.61896549 7.34073562 5.91263686 3.75844997\n",
      " 1.86136901 3.08583158] \n",
      "\n",
      "\n",
      "\n",
      "These should be equal 8 8 8 8\n",
      "\n",
      "\n",
      "\n",
      "The poisson Chi2 is 7.922207377126285, the gaussian Chi2 is 20.79764393543588, the expected Chi2 is 7, with deviation 3.7416573867739413\n",
      "\n",
      "\n",
      "\n"
     ]
    },
    {
     "data": {
      "text/plain": [
       "Text(3.200000000000003, 0.5, 'Frequency')"
      ]
     },
     "execution_count": 4,
     "metadata": {},
     "output_type": "execute_result"
    }
   ],
   "source": [
    "# load data and format for analysis\n",
    "df1 = pd.read_excel('0.1min_interval_geiger.xlsx', header=None)\n",
    "params = df1[0].describe()\n",
    "N = params[0]\n",
    "mean = params[1]\n",
    "std = params[2]\n",
    "var = params[2]**2\n",
    "mean_uncertainty = np.sqrt(mean)/np.sqrt(N)\n",
    "var_uncertainty = np.sqrt(2*mean**2-mean)/np.sqrt(N-1)\n",
    "metrics = {}\n",
    "metrics.update({'mean':mean})\n",
    "metrics.update({'std':std})\n",
    "metrics.update({'var':var})\n",
    "metrics.update({'mean error':mean_uncertainty})\n",
    "metrics.update({'var error': var_uncertainty})\n",
    "metrics.update({'delta': abs(mean-var)})\n",
    "metrics.update({'delta uncertainty': np.sqrt(mean_uncertainty**2 + var_uncertainty**2)})\n",
    "metrics = pd.DataFrame(data=metrics, index=metrics.keys())\n",
    "print(metrics)\n",
    "\n",
    "\n",
    "counts = df1.values\n",
    "counts = np.ndarray.flatten(counts)\n",
    "x, y = np.unique(counts, return_counts=True)\n",
    "print('\\nraw bins', x, '\\nraw counts', y)\n",
    "\n",
    "pvals = []\n",
    "Counts = []\n",
    "# rewrite this loop to obtain left probability values\n",
    "for i in range(7):\n",
    "    pvals.append([poisson.pmf(i, mean), norm(i, mean)])\n",
    "    Counts.append(y[i])\n",
    "\n",
    "Counts.append(0)\n",
    "# adjust the condition to find the right tail bin count\n",
    "Counts[-1] = np.sum(y[np.argwhere(x>=7)])\n",
    "\n",
    "    \n",
    "print('\\nBinned counts',Counts)\n",
    "    \n",
    "temp = np.array(pvals)\n",
    "pvals.append([1-np.sum(temp[:,0]), 1-np.sum(temp[:,1])])\n",
    "\n",
    "temp = np.array(pvals)\n",
    "print('\\n','these should be 1',np.sum(temp[:,0]), np.sum(temp[:,1]))\n",
    "\n",
    "bin_uncertainties = []\n",
    "for p, g in pvals:\n",
    "    bin_uncertainties.append([np.sqrt(N*p*(1-p)), np.sqrt(N*g*(1-g))])\n",
    "    \n",
    "temp = np.array(bin_uncertainties)\n",
    "\n",
    "print('\\n\\n Poisson uncertainties',temp[:,0], '\\n\\nGaussian uncertainties', temp[:,1], '\\n')\n",
    "\n",
    "x = np.arange(x[0], x[0]+len(temp))\n",
    "\n",
    "print('\\n\\nThese should be equal', len(Counts), len(bin_uncertainties), len(x), len(pvals))\n",
    "\n",
    "bin_uncertainties = np.array(bin_uncertainties)\n",
    "pvals = np.array(pvals)\n",
    "Counts = np.array(Counts)\n",
    "\n",
    "fvals = N*np.array(pvals)\n",
    "\n",
    "chi2 = []\n",
    "\n",
    "for f, o, sigma in zip(fvals, Counts, bin_uncertainties):\n",
    "    pchi = ((f[0]-o)/sigma[0])**2\n",
    "    gchi = ((f[1]-o)/sigma[1])**2\n",
    "    chi2.append([pchi,gchi])\n",
    "    \n",
    "chi2 = np.array(chi2)\n",
    "\n",
    "chi2p = np.sum(chi2[:,0])\n",
    "chi2g = np.sum(chi2[:,1])\n",
    "\n",
    "print('\\n\\n')\n",
    "print('The poisson Chi2 is {}, the gaussian Chi2 is {}, the expected Chi2 is {}, with deviation {}'.format(chi2p, chi2g, len(Counts)-1, np.sqrt(2*(len(Counts)-1))))\n",
    "print('\\n\\n')\n",
    "ax[0,0].errorbar(x, fvals[:,0], yerr=bin_uncertainties[:,0], fmt='-.r')\n",
    "ax[0,0].errorbar(x, fvals[:,1], yerr=bin_uncertainties[:,1], fmt='-.b')\n",
    "ax[0,0].errorbar(x, Counts, fmt='.k')\n",
    "ax[0,0].text(0,83, '(a)')\n",
    "ax[0,0].set_ylabel('Frequency')\n",
    "#ax[0,0].legend(['Poisson', 'Gaussian', 'Observed'])"
   ]
  },
  {
   "cell_type": "code",
   "execution_count": 5,
   "metadata": {},
   "outputs": [
    {
     "name": "stdout",
     "output_type": "stream",
     "text": [
      "                        mean       std        var  mean error  var error  \\\n",
      "mean               23.383333  4.603211  21.189548    0.624277   4.258943   \n",
      "std                23.383333  4.603211  21.189548    0.624277   4.258943   \n",
      "var                23.383333  4.603211  21.189548    0.624277   4.258943   \n",
      "mean error         23.383333  4.603211  21.189548    0.624277   4.258943   \n",
      "var error          23.383333  4.603211  21.189548    0.624277   4.258943   \n",
      "delta              23.383333  4.603211  21.189548    0.624277   4.258943   \n",
      "delta uncertainty  23.383333  4.603211  21.189548    0.624277   4.258943   \n",
      "\n",
      "                      delta  delta uncertainty  \n",
      "mean               2.193785           4.304453  \n",
      "std                2.193785           4.304453  \n",
      "var                2.193785           4.304453  \n",
      "mean error         2.193785           4.304453  \n",
      "var error          2.193785           4.304453  \n",
      "delta              2.193785           4.304453  \n",
      "delta uncertainty  2.193785           4.304453  \n",
      "\n",
      "raw bins [15 16 17 18 19 20 21 22 23 24 25 26 27 28 29 30 31 32 35] \n",
      "raw counts [2 1 3 5 5 5 1 3 1 7 6 4 8 2 1 3 1 1 1]\n",
      "\n",
      "Binned counts [2, 1, 3, 5, 5, 5, 1, 3, 1, 7, 6, 4, 8, 2, 1, 3, 1, 2]\n",
      "\n",
      " these should be 1 1.0 1.0\n",
      "\n",
      "\n",
      " Poisson uncertainties [1.59714313 1.24885668 1.45711009 1.65127109 1.82125032 1.95886086\n",
      " 2.05836533 2.11656179 2.13255318 2.10741172 2.04389457 1.94624376\n",
      " 1.81999876 1.6717235  1.5085989  1.33790903 1.16650544 1.71928572] \n",
      "\n",
      "Gaussian uncertainties [1.70750558 1.22610795 1.41409759 1.59544514 1.76146843 1.90394706\n",
      " 2.01583078 2.0917178  2.12807001 2.12324114 2.07744781 1.99277517\n",
      " 1.87320356 1.72454781 1.55418384 1.37050944 1.1821985  1.62822951] \n",
      "\n",
      "\n",
      "\n",
      "These should be equal 18 18 18 18\n",
      "\n",
      "\n",
      "\n",
      "The poisson Chi2 is 20.575372302556445, the gaussian Chi2 is 20.315266717240167, the expected Chi2 is 17, with deviation 5.830951894845301\n",
      "\n",
      "\n",
      "\n"
     ]
    },
    {
     "data": {
      "text/plain": [
       "Text(3.200000000000003, 0.5, 'Frequency')"
      ]
     },
     "execution_count": 5,
     "metadata": {},
     "output_type": "execute_result"
    }
   ],
   "source": [
    "# load data and format for analysis\n",
    "df1 = pd.read_excel('1min_interval_geiger.xlsx', header=None)\n",
    "params = df1[0].describe()\n",
    "N = params[0]\n",
    "mean = params[1]\n",
    "std = params[2]\n",
    "var = params[2]**2\n",
    "mean_uncertainty = np.sqrt(mean)/np.sqrt(N)\n",
    "var_uncertainty = np.sqrt(2*mean**2-mean)/np.sqrt(N-1)\n",
    "metrics = {}\n",
    "metrics.update({'mean':mean})\n",
    "metrics.update({'std':std})\n",
    "metrics.update({'var':var})\n",
    "metrics.update({'mean error':mean_uncertainty})\n",
    "metrics.update({'var error': var_uncertainty})\n",
    "metrics.update({'delta': abs(mean-var)})\n",
    "metrics.update({'delta uncertainty': np.sqrt(mean_uncertainty**2 + var_uncertainty**2)})\n",
    "metrics = pd.DataFrame(data=metrics, index=metrics.keys())\n",
    "print(metrics)\n",
    "\n",
    "\n",
    "counts = df1.values\n",
    "counts = np.ndarray.flatten(counts)\n",
    "x, y = np.unique(counts, return_counts=True)\n",
    "print('\\nraw bins', x, '\\nraw counts', y)\n",
    "\n",
    "pval = 0\n",
    "gval = 0\n",
    "for i in range(16):\n",
    "    pval += poisson.pmf(i, mean)\n",
    "    gval += norm(i, mean)\n",
    "\n",
    "pvals = [[pval,gval]]\n",
    "Counts = [y[0]]\n",
    "# rewrite this loop to obtain left probability values\n",
    "for i in range(16, 32):\n",
    "    pvals.append([poisson.pmf(i, mean), norm(i, mean)])\n",
    "    Counts.append(y[np.argwhere(x==i)[0][0]])\n",
    "\n",
    "Counts.append(0)\n",
    "# adjust the condition to find the right tail bin count\n",
    "Counts[-1] = np.sum(y[np.argwhere(x>=32)])\n",
    "    \n",
    "print('\\nBinned counts',Counts)\n",
    "    \n",
    "temp = np.array(pvals)\n",
    "pvals.append([1-np.sum(temp[:,0]), 1-np.sum(temp[:,1])])\n",
    "\n",
    "temp = np.array(pvals)\n",
    "print('\\n','these should be 1',np.sum(temp[:,0]), np.sum(temp[:,1]))\n",
    "\n",
    "bin_uncertainties = []\n",
    "for p, g in pvals:\n",
    "    bin_uncertainties.append([np.sqrt(N*p*(1-p)), np.sqrt(N*g*(1-g))])\n",
    "    \n",
    "temp = np.array(bin_uncertainties)\n",
    "\n",
    "print('\\n\\n Poisson uncertainties',temp[:,0], '\\n\\nGaussian uncertainties', temp[:,1], '\\n')\n",
    "\n",
    "x = np.arange(x[0], x[0]+len(temp))\n",
    "\n",
    "print('\\n\\nThese should be equal', len(Counts), len(bin_uncertainties), len(x), len(pvals))\n",
    "\n",
    "bin_uncertainties = np.array(bin_uncertainties)\n",
    "pvals = np.array(pvals)\n",
    "Counts = np.array(Counts)\n",
    "\n",
    "fvals = N*np.array(pvals)\n",
    "\n",
    "chi2 = []\n",
    "\n",
    "for f, o, sigma in zip(fvals, Counts, bin_uncertainties):\n",
    "    pchi = ((f[0]-o)/sigma[0])**2\n",
    "    gchi = ((f[1]-o)/sigma[1])**2\n",
    "    chi2.append([pchi,gchi])\n",
    "    \n",
    "chi2 = np.array(chi2)\n",
    "\n",
    "chi2p = np.sum(chi2[:,0])\n",
    "chi2g = np.sum(chi2[:,1])\n",
    "\n",
    "print('\\n\\n')\n",
    "print('The poisson Chi2 is {}, the gaussian Chi2 is {}, the expected Chi2 is {}, with deviation {}'.format(chi2p, chi2g, len(Counts)-1, np.sqrt(2*(len(Counts)-1))))\n",
    "print('\\n\\n')\n",
    "ax[1,0].errorbar(x, fvals[:,0], yerr=bin_uncertainties[:,0], fmt='-.r')\n",
    "ax[1,0].errorbar(x, fvals[:,1], yerr=bin_uncertainties[:,1], fmt='-.b')\n",
    "ax[1,0].errorbar(x, Counts, fmt='.k')\n",
    "ax[1,0].text(15,7.2, '(c)')\n",
    "ax[1,0].set_xlabel('Count')\n",
    "ax[1,0].set_ylabel('Frequency')\n",
    "#ax[1,0].legend(['Poisson', 'Gaussian', 'Observed'])"
   ]
  },
  {
   "cell_type": "code",
   "execution_count": 6,
   "metadata": {},
   "outputs": [
    {
     "name": "stdout",
     "output_type": "stream",
     "text": [
      "                       mean       std       var  mean error  var error  \\\n",
      "mean               1.296774  1.037636  1.076689    0.064677   0.081778   \n",
      "std                1.296774  1.037636  1.076689    0.064677   0.081778   \n",
      "var                1.296774  1.037636  1.076689    0.064677   0.081778   \n",
      "mean error         1.296774  1.037636  1.076689    0.064677   0.081778   \n",
      "var error          1.296774  1.037636  1.076689    0.064677   0.081778   \n",
      "delta              1.296774  1.037636  1.076689    0.064677   0.081778   \n",
      "delta uncertainty  1.296774  1.037636  1.076689    0.064677   0.081778   \n",
      "\n",
      "                      delta  delta uncertainty  \n",
      "mean               0.220086           0.104263  \n",
      "std                0.220086           0.104263  \n",
      "var                0.220086           0.104263  \n",
      "mean error         0.220086           0.104263  \n",
      "var error          0.220086           0.104263  \n",
      "delta              0.220086           0.104263  \n",
      "delta uncertainty  0.220086           0.104263  \n",
      "\n",
      "raw bins [0 1 2 3 4 6] \n",
      "raw counts [ 73 120  79  30   7   1]\n",
      "\n",
      "Binned counts [73, 120, 79, 30, 8]\n",
      "\n",
      " these should be 1 1.0 1.0\n",
      "\n",
      "\n",
      " Poisson uncertainties [7.84754682 8.42271333 7.40825861 5.26724804 3.56269873] \n",
      "\n",
      "Gaussian uncertainties [6.81061774 8.33233687 7.98533385 5.60574798 4.61457928] \n",
      "\n",
      "\n",
      "\n",
      "These should be equal 5 5 5 5\n",
      "\n",
      "\n",
      "\n",
      "The poisson Chi2 is 6.972631302124112, the gaussian Chi2 is 22.255533533686013, the expected Chi2 is 4, with deviation 2.8284271247461903\n",
      "\n",
      "\n",
      "\n"
     ]
    },
    {
     "data": {
      "text/plain": [
       "Text(0, 110, '(b)')"
      ]
     },
     "execution_count": 6,
     "metadata": {},
     "output_type": "execute_result"
    }
   ],
   "source": [
    "# load data and format for analysis\n",
    "df1 = pd.read_excel('0.1min_interval_geiger_shield.xlsx', header=None)\n",
    "params = df1[0].describe()\n",
    "N = params[0]\n",
    "mean = params[1]\n",
    "std = params[2]\n",
    "var = params[2]**2\n",
    "mean_uncertainty = np.sqrt(mean)/np.sqrt(N)\n",
    "var_uncertainty = np.sqrt(2*mean**2-mean)/np.sqrt(N-1)\n",
    "metrics = {}\n",
    "metrics.update({'mean':mean})\n",
    "metrics.update({'std':std})\n",
    "metrics.update({'var':var})\n",
    "metrics.update({'mean error':mean_uncertainty})\n",
    "metrics.update({'var error': var_uncertainty})\n",
    "metrics.update({'delta': abs(mean-var)})\n",
    "metrics.update({'delta uncertainty': np.sqrt(mean_uncertainty**2 + var_uncertainty**2)})\n",
    "metrics = pd.DataFrame(data=metrics, index=metrics.keys())\n",
    "print(metrics)\n",
    "\n",
    "\n",
    "counts = df1.values\n",
    "counts = np.ndarray.flatten(counts)\n",
    "x, y = np.unique(counts, return_counts=True)\n",
    "print('\\nraw bins', x, '\\nraw counts', y)\n",
    "\n",
    "\n",
    "pvals = []\n",
    "Counts = []\n",
    "# rewrite this loop to obtain left probability values\n",
    "for i in range(4):\n",
    "    pvals.append([poisson.pmf(i, mean), norm(i, mean)])\n",
    "    Counts.append(y[i])\n",
    "\n",
    "Counts.append(0)\n",
    "# adjust the condition to find the right tail bin count\n",
    "Counts[-1] = np.sum(y[np.argwhere(x>=4)])\n",
    "\n",
    "    \n",
    "print('\\nBinned counts',Counts)\n",
    "    \n",
    "temp = np.array(pvals)\n",
    "pvals.append([1-np.sum(temp[:,0]), 1-np.sum(temp[:,1])])\n",
    "\n",
    "temp = np.array(pvals)\n",
    "print('\\n','these should be 1',np.sum(temp[:,0]), np.sum(temp[:,1]))\n",
    "\n",
    "bin_uncertainties = []\n",
    "for p, g in pvals:\n",
    "    bin_uncertainties.append([np.sqrt(N*p*(1-p)), np.sqrt(N*g*(1-g))])\n",
    "    \n",
    "temp = np.array(bin_uncertainties)\n",
    "\n",
    "print('\\n\\n Poisson uncertainties',temp[:,0], '\\n\\nGaussian uncertainties', temp[:,1], '\\n')\n",
    "\n",
    "x = np.arange(x[0], x[0]+len(temp))\n",
    "\n",
    "print('\\n\\nThese should be equal', len(Counts), len(bin_uncertainties), len(x), len(pvals))\n",
    "\n",
    "bin_uncertainties = np.array(bin_uncertainties)\n",
    "pvals = np.array(pvals)\n",
    "Counts = np.array(Counts)\n",
    "\n",
    "fvals = N*np.array(pvals)\n",
    "\n",
    "chi2 = []\n",
    "\n",
    "for f, o, sigma in zip(fvals, Counts, bin_uncertainties):\n",
    "    pchi = ((f[0]-o)/sigma[0])**2\n",
    "    gchi = ((f[1]-o)/sigma[1])**2\n",
    "    chi2.append([pchi,gchi])\n",
    "    \n",
    "chi2 = np.array(chi2)\n",
    "\n",
    "chi2p = np.sum(chi2[:,0])\n",
    "chi2g = np.sum(chi2[:,1])\n",
    "\n",
    "print('\\n\\n')\n",
    "print('The poisson Chi2 is {}, the gaussian Chi2 is {}, the expected Chi2 is {}, with deviation {}'.format(chi2p, chi2g, len(Counts)-1, np.sqrt(2*(len(Counts)-1))))\n",
    "print('\\n\\n')\n",
    "ax[0,1].errorbar(x, fvals[:,0], yerr=bin_uncertainties[:,0], fmt='-.r')\n",
    "ax[0,1].errorbar(x, fvals[:,1], yerr=bin_uncertainties[:,1], fmt='-.b')\n",
    "ax[0,1].errorbar(x, Counts, fmt='.k')\n",
    "ax[0,1].text(0,110, '(b)')\n",
    "#ax[0,1].legend(['Poisson', 'Gaussian', 'Observed'])\n"
   ]
  },
  {
   "cell_type": "code",
   "execution_count": 7,
   "metadata": {},
   "outputs": [
    {
     "name": "stdout",
     "output_type": "stream",
     "text": [
      "                         mean        std         var  mean error  var error  \\\n",
      "mean               237.833333  13.317908  177.366667    6.295942  150.26081   \n",
      "std                237.833333  13.317908  177.366667    6.295942  150.26081   \n",
      "var                237.833333  13.317908  177.366667    6.295942  150.26081   \n",
      "mean error         237.833333  13.317908  177.366667    6.295942  150.26081   \n",
      "var error          237.833333  13.317908  177.366667    6.295942  150.26081   \n",
      "delta              237.833333  13.317908  177.366667    6.295942  150.26081   \n",
      "delta uncertainty  237.833333  13.317908  177.366667    6.295942  150.26081   \n",
      "\n",
      "                       delta  delta uncertainty  \n",
      "mean               60.466667         150.392653  \n",
      "std                60.466667         150.392653  \n",
      "var                60.466667         150.392653  \n",
      "mean error         60.466667         150.392653  \n",
      "var error          60.466667         150.392653  \n",
      "delta              60.466667         150.392653  \n",
      "delta uncertainty  60.466667         150.392653  \n",
      "\n",
      "raw bins [216 233 240 241 257] \n",
      "raw counts [1 1 2 1 1]\n",
      "\n",
      "Binned counts [1, 1, 1, 2, 1, 1]\n",
      "\n",
      " these should be 1 1.0 1.0\n",
      "\n",
      "\n",
      " Poisson uncertainties [0.6333213  0.23940304 1.13438589 0.94015842 0.38358475 1.20103463] \n",
      "\n",
      "Gaussian uncertainties [0.64020902 0.23756046 1.12889556 0.93965559 0.38486968 1.20291504] \n",
      "\n",
      "\n",
      "\n",
      "These should be equal 6 6 6 6\n",
      "\n",
      "\n",
      "\n",
      "The poisson Chi2 is 24.123332348134287, the gaussian Chi2 is 24.312864761667853, the expected Chi2 is 5, with deviation 3.1622776601683795\n",
      "\n",
      "\n",
      "\n"
     ]
    }
   ],
   "source": [
    "# load data and format for analysis\n",
    "df1 = pd.read_excel('10min_interval_geiger.xlsx', header=None)\n",
    "params = df1[0].describe()\n",
    "N = params[0]\n",
    "mean = params[1]\n",
    "std = params[2]\n",
    "var = params[2]**2\n",
    "mean_uncertainty = np.sqrt(mean)/np.sqrt(N)\n",
    "var_uncertainty = np.sqrt(2*mean**2-mean)/np.sqrt(N-1)\n",
    "metrics = {}\n",
    "metrics.update({'mean':mean})\n",
    "metrics.update({'std':std})\n",
    "metrics.update({'var':var})\n",
    "metrics.update({'mean error':mean_uncertainty})\n",
    "metrics.update({'var error': var_uncertainty})\n",
    "metrics.update({'delta': abs(mean-var)})\n",
    "metrics.update({'delta uncertainty': np.sqrt(mean_uncertainty**2 + var_uncertainty**2)})\n",
    "metrics = pd.DataFrame(data=metrics, index=metrics.keys())\n",
    "print(metrics)\n",
    "\n",
    "\n",
    "counts = df1.values\n",
    "counts = np.ndarray.flatten(counts)\n",
    "x, y = np.unique(counts, return_counts=True)\n",
    "print('\\nraw bins', x, '\\nraw counts', y)\n",
    "\n",
    "pval = 0\n",
    "gval = 0\n",
    "for i in range(216):\n",
    "    pval += poisson.pmf(i, mean)\n",
    "    gval += norm(i, mean)\n",
    "\n",
    "pvals = [[pval,gval]]\n",
    "Counts = [y[0]]\n",
    "# rewrite this loop to obtain left probability values\n",
    "pval = 0\n",
    "gval = 0\n",
    "for i in range(216, 257):\n",
    "    pval += poisson.pmf(i, mean)\n",
    "    gval += norm(i, mean)\n",
    "    if i in x:\n",
    "        Counts.append(y[np.argwhere(x==i)[0][0]])\n",
    "        pvals.append([pval, gval])\n",
    "        pval = 0\n",
    "        gval = 0\n",
    "\n",
    "Counts.append(0)\n",
    "# adjust the condition to find the right tail bin count\n",
    "Counts[-1] = np.sum(y[np.argwhere(x>=257)])\n",
    "    \n",
    "print('\\nBinned counts',Counts)\n",
    "    \n",
    "temp = np.array(pvals)\n",
    "pvals.append([1-np.sum(temp[:,0]), 1-np.sum(temp[:,1])])\n",
    "\n",
    "temp = np.array(pvals)\n",
    "print('\\n','these should be 1',np.sum(temp[:,0]), np.sum(temp[:,1]))\n",
    "\n",
    "bin_uncertainties = []\n",
    "for p, g in pvals:\n",
    "    bin_uncertainties.append([np.sqrt(N*p*(1-p)), np.sqrt(N*g*(1-g))])\n",
    "    \n",
    "temp = np.array(bin_uncertainties)\n",
    "\n",
    "print('\\n\\n Poisson uncertainties',temp[:,0], '\\n\\nGaussian uncertainties', temp[:,1], '\\n')\n",
    "\n",
    "x = np.arange(x[0], x[0]+len(temp))\n",
    "\n",
    "print('\\n\\nThese should be equal', len(Counts), len(bin_uncertainties), len(x), len(pvals))\n",
    "\n",
    "bin_uncertainties = np.array(bin_uncertainties)\n",
    "pvals = np.array(pvals)\n",
    "Counts = np.array(Counts)\n",
    "\n",
    "fvals = N*np.array(pvals)\n",
    "\n",
    "chi2 = []\n",
    "\n",
    "for f, o, sigma in zip(fvals, Counts, bin_uncertainties):\n",
    "    pchi = ((f[0]-o)/sigma[0])**2\n",
    "    gchi = ((f[1]-o)/sigma[1])**2\n",
    "    chi2.append([pchi,gchi])\n",
    "    \n",
    "chi2 = np.array(chi2)\n",
    "\n",
    "chi2p = np.sum(chi2[:,0])\n",
    "chi2g = np.sum(chi2[:,1])\n",
    "\n",
    "print('\\n\\n')\n",
    "print('The poisson Chi2 is {}, the gaussian Chi2 is {}, the expected Chi2 is {}, with deviation {}'.format(chi2p, chi2g, len(Counts)-1, np.sqrt(2*(len(Counts)-1))))\n",
    "print('\\n\\n')\n",
    "ax[1,1].errorbar(x, fvals[:,0], yerr=bin_uncertainties[:,0], fmt='-.r')\n",
    "ax[1,1].errorbar(x, fvals[:,1], yerr=bin_uncertainties[:,1], fmt='-.b')\n",
    "ax[1,1].errorbar(x, Counts, fmt='.k')\n",
    "ax[1,1].text(215.95,3.3, '(d)')\n",
    "ax[1,1].set_xlabel('Count')\n",
    "#ax[1,1].ylabel('Frequency')\n",
    "#ax[1,1].legend(['Poisson', 'Gaussian', 'Observed'])\n",
    "plt.show()"
   ]
  },
  {
   "cell_type": "code",
   "execution_count": 8,
   "metadata": {},
   "outputs": [
    {
     "name": "stdout",
     "output_type": "stream",
     "text": [
      "The average count rate is 23.099999999999998 with deviaton 1.1463156899999998\n"
     ]
    }
   ],
   "source": [
    "count_rates = [22.5, 23.1, 23.7]\n",
    "count_rate_deviations = [10*0.087, 0.624, 0.063/10]\n",
    "\n",
    "count_rate_deviations = np.array(count_rate_deviations)\n",
    "count_rate_vars = count_rate_deviations*count_rate_deviations\n",
    "print('The average count rate is {} with deviaton {}'.format(np.mean(count_rates), np.sum(count_rate_vars)))"
   ]
  },
  {
   "cell_type": "code",
   "execution_count": 9,
   "metadata": {},
   "outputs": [
    {
     "name": "stdout",
     "output_type": "stream",
     "text": [
      "The chi2 of chi2 for poission is 1.5379196428571424, for gaussian 55.60354537815126, the expected is 3 with error 2.449489742783178\n"
     ]
    }
   ],
   "source": [
    "# chi2 of chi2\n",
    "\n",
    "chi2ps = [[7.92, 7], [20.57, 17], [6.97, 4]] #[24.12, 5]]\n",
    "chi2gs = [[20.8, 7], [20.31, 17], [22.26, 4]]# [24.31, 5]]\n",
    "chi2err = [np.sqrt(2*7), np.sqrt(2*17), np.sqrt(2*4)]\n",
    "\n",
    "chi2chi2 = []\n",
    "for p,g,err in zip(chi2ps, chi2gs,chi2err):\n",
    "    chi2p = (p[0]-p[1])**2/err**2\n",
    "    chi2g = (g[0]-g[1])**2/err**2\n",
    "    chi2chi2.append([chi2p,chi2g])\n",
    "    \n",
    "chi2chi2 = np.array(chi2chi2)\n",
    "chi2p = np.sum(chi2chi2[:,0])\n",
    "chi2g = np.sum(chi2chi2[:,1])\n",
    "print('The chi2 of chi2 for poission is {}, for gaussian {}, the expected is {} with error {}'.format(chi2p, chi2g, 3, np.sqrt(6)))"
   ]
  },
  {
   "cell_type": "code",
   "execution_count": 10,
   "metadata": {},
   "outputs": [
    {
     "data": {
      "text/plain": [
       "<matplotlib.legend.Legend at 0x254ffedec88>"
      ]
     },
     "execution_count": 10,
     "metadata": {},
     "output_type": "execute_result"
    }
   ],
   "source": [
    "fig.legend(['Poisson', 'Gaussian', 'Observed'])"
   ]
  },
  {
   "cell_type": "code",
   "execution_count": 11,
   "metadata": {},
   "outputs": [
    {
     "data": {
      "image/png": "[encoded data removed]",
      "text/plain": [
       "<Figure size 432x288 with 4 Axes>"
      ]
     },
     "execution_count": 11,
     "metadata": {},
     "output_type": "execute_result"
    }
   ],
   "source": [
    "fig"
   ]
  },
  {
   "cell_type": "code",
   "execution_count": 12,
   "metadata": {},
   "outputs": [],
   "source": [
    "fig.savefig('poisson.png')"
   ]
  },
  {
   "cell_type": "code",
   "execution_count": 19,
   "metadata": {},
   "outputs": [
    {
     "name": "stdout",
     "output_type": "stream",
     "text": [
      "λ\n"
     ]
    }
   ],
   "source": [
    "print('\\u03BB')"
   ]
  },
  {
   "cell_type": "code",
   "execution_count": 20,
   "metadata": {},
   "outputs": [
    {
     "name": "stdout",
     "output_type": "stream",
     "text": [
      "Δ\n"
     ]
    }
   ],
   "source": [
    "print('\\u0394')"
   ]
  },
  {
   "cell_type": "code",
   "execution_count": 26,
   "metadata": {},
   "outputs": [
    {
     "name": "stdout",
     "output_type": "stream",
     "text": [
      "σ2\n"
     ]
    }
   ],
   "source": [
    "print('\\u03C32')"
   ]
  },
  {
   "cell_type": "code",
   "execution_count": 24,
   "metadata": {},
   "outputs": [
    {
     "name": "stdout",
     "output_type": "stream",
     "text": [
      "χ2\n"
     ]
    }
   ],
   "source": [
    "print('\\u03C72')"
   ]
  },
  {
   "cell_type": "code",
   "execution_count": 47,
   "metadata": {},
   "outputs": [],
   "source": [
    "data = pd.read_excel('table.xlsx', index_col=0)\n",
    "columns = ['N', '\\u03BB', '\\u03C32', '\\u0394', 'Expected \\u03C72', 'Poisson \\u03C72', 'Gaussian \\u03C72']\n",
    "#data['']= columns"
   ]
  },
  {
   "cell_type": "code",
   "execution_count": 48,
   "metadata": {},
   "outputs": [
    {
     "data": {
      "text/html": [
       "<div>\n",
       "<style scoped>\n",
       "    .dataframe tbody tr th:only-of-type {\n",
       "        vertical-align: middle;\n",
       "    }\n",
       "\n",
       "    .dataframe tbody tr th {\n",
       "        vertical-align: top;\n",
       "    }\n",
       "\n",
       "    .dataframe thead th {\n",
       "        text-align: right;\n",
       "    }\n",
       "</style>\n",
       "<table border=\"1\" class=\"dataframe\">\n",
       "  <thead>\n",
       "    <tr style=\"text-align: right;\">\n",
       "      <th></th>\n",
       "      <th>0.1 min w/o Shielding</th>\n",
       "      <th>0.1 min w/ Shielding</th>\n",
       "      <th>1 min w/o Shielding</th>\n",
       "      <th>10 min w/o Shielding</th>\n",
       "    </tr>\n",
       "  </thead>\n",
       "  <tbody>\n",
       "    <tr>\n",
       "      <th>N</th>\n",
       "      <td>300</td>\n",
       "      <td>300</td>\n",
       "      <td>60</td>\n",
       "      <td>6</td>\n",
       "    </tr>\n",
       "    <tr>\n",
       "      <th>λ</th>\n",
       "      <td>2.25 ± 0.086</td>\n",
       "      <td>1.30 ± 0.065</td>\n",
       "      <td>23.4 ± 0.625</td>\n",
       "      <td>237.8 ± 6.30</td>\n",
       "    </tr>\n",
       "    <tr>\n",
       "      <th>σ2</th>\n",
       "      <td>2.62 ± 0.162</td>\n",
       "      <td>1.04 ± 0.082</td>\n",
       "      <td>21.2 ± 4.26</td>\n",
       "      <td>177.4 ± 150.2</td>\n",
       "    </tr>\n",
       "    <tr>\n",
       "      <th>Δ</th>\n",
       "      <td>0.373 ± 0.184</td>\n",
       "      <td>0.22 ± 0.104</td>\n",
       "      <td>2.19 ± 4.30</td>\n",
       "      <td>60.5 ± 150.4</td>\n",
       "    </tr>\n",
       "    <tr>\n",
       "      <th>Expected χ2</th>\n",
       "      <td>7</td>\n",
       "      <td>4</td>\n",
       "      <td>17</td>\n",
       "      <td>5</td>\n",
       "    </tr>\n",
       "    <tr>\n",
       "      <th>Poisson χ2</th>\n",
       "      <td>7.92 ± 3.74</td>\n",
       "      <td>6.97 ± 2.83</td>\n",
       "      <td>20.6 ± 5.83</td>\n",
       "      <td>24.1 ± 3.16</td>\n",
       "    </tr>\n",
       "    <tr>\n",
       "      <th>Gaussian χ2</th>\n",
       "      <td>20.8 ± 3.74</td>\n",
       "      <td>22.3 ± 2.83</td>\n",
       "      <td>20.3 ± 5.83</td>\n",
       "      <td>24.3 ± 3.16</td>\n",
       "    </tr>\n",
       "  </tbody>\n",
       "</table>\n",
       "</div>"
      ],
      "text/plain": [
       "            0.1 min w/o Shielding 0.1 min w/ Shielding 1 min w/o Shielding  \\\n",
       "N                             300                  300                  60   \n",
       "λ                    2.25 ± 0.086         1.30 ± 0.065        23.4 ± 0.625   \n",
       "σ2                   2.62 ± 0.162         1.04 ± 0.082         21.2 ± 4.26   \n",
       "Δ                   0.373 ± 0.184         0.22 ± 0.104         2.19 ± 4.30   \n",
       "Expected χ2                     7                    4                  17   \n",
       "Poisson χ2            7.92 ± 3.74          6.97 ± 2.83         20.6 ± 5.83   \n",
       "Gaussian χ2           20.8 ± 3.74          22.3 ± 2.83         20.3 ± 5.83   \n",
       "\n",
       "            10 min w/o Shielding  \n",
       "N                              6  \n",
       "λ                   237.8 ± 6.30  \n",
       "σ2                 177.4 ± 150.2  \n",
       "Δ                   60.5 ± 150.4  \n",
       "Expected χ2                    5  \n",
       "Poisson χ2           24.1 ± 3.16  \n",
       "Gaussian χ2          24.3 ± 3.16  "
      ]
     },
     "execution_count": 48,
     "metadata": {},
     "output_type": "execute_result"
    }
   ],
   "source": [
    "data"
   ]
  },
  {
   "cell_type": "code",
   "execution_count": 53,
   "metadata": {},
   "outputs": [],
   "source": [
    "x = data.to_latex()"
   ]
  },
  {
   "cell_type": "code",
   "execution_count": 54,
   "metadata": {},
   "outputs": [
    {
     "name": "stdout",
     "output_type": "stream",
     "text": [
      "\\begin{tabular}{lllll}\n",
      "\\toprule\n",
      "{} & 0.1 min w/o Shielding & 0.1 min w/ Shielding & 1 min w/o Shielding & 10 min w/o Shielding \\\\\n",
      "\\midrule\n",
      "N           &                   300 &                  300 &                  60 &                    6 \\\\\n",
      "λ           &          2.25 ± 0.086 &         1.30 ± 0.065 &        23.4 ± 0.625 &         237.8 ± 6.30 \\\\\n",
      "σ2          &          2.62 ± 0.162 &         1.04 ± 0.082 &         21.2 ± 4.26 &        177.4 ± 150.2 \\\\\n",
      "Δ           &         0.373 ± 0.184 &         0.22 ± 0.104 &         2.19 ± 4.30 &         60.5 ± 150.4 \\\\\n",
      "Expected χ2 &                     7 &                    4 &                  17 &                    5 \\\\\n",
      "Poisson χ2  &           7.92 ± 3.74 &          6.97 ± 2.83 &         20.6 ± 5.83 &          24.1 ± 3.16 \\\\\n",
      "Gaussian χ2 &           20.8 ± 3.74 &          22.3 ± 2.83 &         20.3 ± 5.83 &          24.3 ± 3.16 \\\\\n",
      "\\bottomrule\n",
      "\\end{tabular}\n",
      "\n"
     ]
    }
   ],
   "source": [
    "print(x)"
   ]
  },
  {
   "cell_type": "code",
   "execution_count": null,
   "metadata": {},
   "outputs": [],
   "source": []
  }
 ],
 "metadata": {
  "kernelspec": {
   "display_name": "Python 3",
   "language": "python",
   "name": "python3"
  },
  "language_info": {
   "codemirror_mode": {
    "name": "ipython",
    "version": 3
   },
   "file_extension": ".py",
   "mimetype": "text/x-python",
   "name": "python",
   "nbconvert_exporter": "python",
   "pygments_lexer": "ipython3",
   "version": "3.6.5"
  }
 },
 "nbformat": 4,
 "nbformat_minor": 2
}

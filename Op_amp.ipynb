{
 "cells": [
  {
   "cell_type": "code",
   "execution_count": 14,
   "metadata": {},
   "outputs": [],
   "source": [
    "import numpy as np\n",
    "import matplotlib.pyplot as plt\n",
    "import pandas as pd\n",
    "from scipy.optimize import curve_fit"
   ]
  },
  {
   "cell_type": "code",
   "execution_count": 15,
   "metadata": {},
   "outputs": [],
   "source": [
    "df = pd.read_excel('opamp_open.xlsx')"
   ]
  },
  {
   "cell_type": "code",
   "execution_count": 16,
   "metadata": {},
   "outputs": [
    {
     "data": {
      "text/html": [
       "<div>\n",
       "<style scoped>\n",
       "    .dataframe tbody tr th:only-of-type {\n",
       "        vertical-align: middle;\n",
       "    }\n",
       "\n",
       "    .dataframe tbody tr th {\n",
       "        vertical-align: top;\n",
       "    }\n",
       "\n",
       "    .dataframe thead th {\n",
       "        text-align: right;\n",
       "    }\n",
       "</style>\n",
       "<table border=\"1\" class=\"dataframe\">\n",
       "  <thead>\n",
       "    <tr style=\"text-align: right;\">\n",
       "      <th></th>\n",
       "      <th>frequency (Khz)</th>\n",
       "      <th>Vin (V)</th>\n",
       "      <th>Vout (V)</th>\n",
       "      <th>Resistor (Kohm)</th>\n",
       "    </tr>\n",
       "  </thead>\n",
       "  <tbody>\n",
       "    <tr>\n",
       "      <th>0</th>\n",
       "      <td>0.5398</td>\n",
       "      <td>19.0</td>\n",
       "      <td>11.2000</td>\n",
       "      <td>100</td>\n",
       "    </tr>\n",
       "    <tr>\n",
       "      <th>1</th>\n",
       "      <td>0.6361</td>\n",
       "      <td>19.0</td>\n",
       "      <td>9.4400</td>\n",
       "      <td>100</td>\n",
       "    </tr>\n",
       "    <tr>\n",
       "      <th>2</th>\n",
       "      <td>0.9025</td>\n",
       "      <td>19.0</td>\n",
       "      <td>6.6400</td>\n",
       "      <td>100</td>\n",
       "    </tr>\n",
       "    <tr>\n",
       "      <th>3</th>\n",
       "      <td>1.0350</td>\n",
       "      <td>19.0</td>\n",
       "      <td>5.7600</td>\n",
       "      <td>100</td>\n",
       "    </tr>\n",
       "    <tr>\n",
       "      <th>4</th>\n",
       "      <td>1.1850</td>\n",
       "      <td>19.0</td>\n",
       "      <td>5.0400</td>\n",
       "      <td>100</td>\n",
       "    </tr>\n",
       "    <tr>\n",
       "      <th>5</th>\n",
       "      <td>1.3660</td>\n",
       "      <td>19.0</td>\n",
       "      <td>4.4000</td>\n",
       "      <td>100</td>\n",
       "    </tr>\n",
       "    <tr>\n",
       "      <th>6</th>\n",
       "      <td>1.8840</td>\n",
       "      <td>19.0</td>\n",
       "      <td>3.2000</td>\n",
       "      <td>100</td>\n",
       "    </tr>\n",
       "    <tr>\n",
       "      <th>7</th>\n",
       "      <td>2.0190</td>\n",
       "      <td>19.0</td>\n",
       "      <td>2.9600</td>\n",
       "      <td>100</td>\n",
       "    </tr>\n",
       "    <tr>\n",
       "      <th>8</th>\n",
       "      <td>2.5250</td>\n",
       "      <td>19.0</td>\n",
       "      <td>2.4000</td>\n",
       "      <td>100</td>\n",
       "    </tr>\n",
       "    <tr>\n",
       "      <th>9</th>\n",
       "      <td>3.1280</td>\n",
       "      <td>19.0</td>\n",
       "      <td>1.9200</td>\n",
       "      <td>100</td>\n",
       "    </tr>\n",
       "    <tr>\n",
       "      <th>10</th>\n",
       "      <td>4.0320</td>\n",
       "      <td>19.0</td>\n",
       "      <td>1.5200</td>\n",
       "      <td>100</td>\n",
       "    </tr>\n",
       "    <tr>\n",
       "      <th>11</th>\n",
       "      <td>5.1130</td>\n",
       "      <td>19.0</td>\n",
       "      <td>1.2000</td>\n",
       "      <td>100</td>\n",
       "    </tr>\n",
       "    <tr>\n",
       "      <th>12</th>\n",
       "      <td>6.0200</td>\n",
       "      <td>19.0</td>\n",
       "      <td>1.0400</td>\n",
       "      <td>100</td>\n",
       "    </tr>\n",
       "    <tr>\n",
       "      <th>13</th>\n",
       "      <td>7.0420</td>\n",
       "      <td>19.0</td>\n",
       "      <td>0.8800</td>\n",
       "      <td>100</td>\n",
       "    </tr>\n",
       "    <tr>\n",
       "      <th>14</th>\n",
       "      <td>11.2100</td>\n",
       "      <td>19.0</td>\n",
       "      <td>0.5400</td>\n",
       "      <td>100</td>\n",
       "    </tr>\n",
       "    <tr>\n",
       "      <th>15</th>\n",
       "      <td>20.8300</td>\n",
       "      <td>19.0</td>\n",
       "      <td>0.2960</td>\n",
       "      <td>100</td>\n",
       "    </tr>\n",
       "    <tr>\n",
       "      <th>16</th>\n",
       "      <td>69.6400</td>\n",
       "      <td>19.0</td>\n",
       "      <td>0.1060</td>\n",
       "      <td>100</td>\n",
       "    </tr>\n",
       "    <tr>\n",
       "      <th>17</th>\n",
       "      <td>99.6000</td>\n",
       "      <td>18.8</td>\n",
       "      <td>0.4200</td>\n",
       "      <td>10</td>\n",
       "    </tr>\n",
       "    <tr>\n",
       "      <th>18</th>\n",
       "      <td>198.4000</td>\n",
       "      <td>18.8</td>\n",
       "      <td>0.1800</td>\n",
       "      <td>10</td>\n",
       "    </tr>\n",
       "    <tr>\n",
       "      <th>19</th>\n",
       "      <td>300.0000</td>\n",
       "      <td>18.8</td>\n",
       "      <td>0.0900</td>\n",
       "      <td>10</td>\n",
       "    </tr>\n",
       "    <tr>\n",
       "      <th>20</th>\n",
       "      <td>410.7000</td>\n",
       "      <td>18.8</td>\n",
       "      <td>0.0680</td>\n",
       "      <td>10</td>\n",
       "    </tr>\n",
       "    <tr>\n",
       "      <th>21</th>\n",
       "      <td>522.2000</td>\n",
       "      <td>18.8</td>\n",
       "      <td>0.0632</td>\n",
       "      <td>10</td>\n",
       "    </tr>\n",
       "    <tr>\n",
       "      <th>22</th>\n",
       "      <td>625.0000</td>\n",
       "      <td>18.8</td>\n",
       "      <td>0.0700</td>\n",
       "      <td>10</td>\n",
       "    </tr>\n",
       "  </tbody>\n",
       "</table>\n",
       "</div>"
      ],
      "text/plain": [
       "    frequency (Khz)  Vin (V)  Vout (V)  Resistor (Kohm)\n",
       "0            0.5398     19.0   11.2000              100\n",
       "1            0.6361     19.0    9.4400              100\n",
       "2            0.9025     19.0    6.6400              100\n",
       "3            1.0350     19.0    5.7600              100\n",
       "4            1.1850     19.0    5.0400              100\n",
       "5            1.3660     19.0    4.4000              100\n",
       "6            1.8840     19.0    3.2000              100\n",
       "7            2.0190     19.0    2.9600              100\n",
       "8            2.5250     19.0    2.4000              100\n",
       "9            3.1280     19.0    1.9200              100\n",
       "10           4.0320     19.0    1.5200              100\n",
       "11           5.1130     19.0    1.2000              100\n",
       "12           6.0200     19.0    1.0400              100\n",
       "13           7.0420     19.0    0.8800              100\n",
       "14          11.2100     19.0    0.5400              100\n",
       "15          20.8300     19.0    0.2960              100\n",
       "16          69.6400     19.0    0.1060              100\n",
       "17          99.6000     18.8    0.4200               10\n",
       "18         198.4000     18.8    0.1800               10\n",
       "19         300.0000     18.8    0.0900               10\n",
       "20         410.7000     18.8    0.0680               10\n",
       "21         522.2000     18.8    0.0632               10\n",
       "22         625.0000     18.8    0.0700               10"
      ]
     },
     "execution_count": 16,
     "metadata": {},
     "output_type": "execute_result"
    }
   ],
   "source": [
    "df"
   ]
  },
  {
   "cell_type": "code",
   "execution_count": 17,
   "metadata": {},
   "outputs": [],
   "source": [
    "vals = df.values.T\n",
    "frequencies = vals[0]\n",
    "Vin = vals[1]\n",
    "Vout = vals[2]\n",
    "resistances = [3]"
   ]
  },
  {
   "cell_type": "code",
   "execution_count": null,
   "metadata": {},
   "outputs": [],
   "source": []
  },
  {
   "cell_type": "code",
   "execution_count": 18,
   "metadata": {},
   "outputs": [
    {
     "data": {
      "text/plain": [
       "Text(0, 0.5, 'log(G)')"
      ]
     },
     "execution_count": 18,
     "metadata": {},
     "output_type": "execute_result"
    },
    {
     "data": {
      "image/png": "[encoded data removed]",
      "text/plain": [
       "<Figure size 432x288 with 1 Axes>"
      ]
     },
     "metadata": {
      "needs_background": "light"
     },
     "output_type": "display_data"
    }
   ],
   "source": [
    "plt.scatter(np.log(frequencies), np.log(Vout/Vin))\n",
    "plt.xlabel(r'log($\\nu$)')\n",
    "plt.ylabel('log(G)')"
   ]
  },
  {
   "cell_type": "code",
   "execution_count": 8,
   "metadata": {},
   "outputs": [
    {
     "name": "stdout",
     "output_type": "stream",
     "text": [
      "[-0.61655658 -0.4523995  -0.10258659  0.03440143  0.16974277  0.31188676\n",
      "  0.63339718  0.70260234  0.92624106  1.14039382  1.39426253  1.63178632\n",
      "  1.79508726  1.95189222  2.41680624  3.03639426  4.24333911  4.60116216\n",
      "  5.29028519  5.70378247  6.01786302  6.25805066  6.43775165]\n"
     ]
    }
   ],
   "source": [
    "print(np.log(frequencies))"
   ]
  }
 ],
 "metadata": {
  "kernelspec": {
   "display_name": "Python 3",
   "language": "python",
   "name": "python3"
  },
  "language_info": {
   "codemirror_mode": {
    "name": "ipython",
    "version": 3
   },
   "file_extension": ".py",
   "mimetype": "text/x-python",
   "name": "python",
   "nbconvert_exporter": "python",
   "pygments_lexer": "ipython3",
   "version": "3.6.5"
  }
 },
 "nbformat": 4,
 "nbformat_minor": 2
}

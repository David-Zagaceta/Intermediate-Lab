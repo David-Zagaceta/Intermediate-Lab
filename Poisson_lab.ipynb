{
 "cells": [
  {
   "cell_type": "code",
   "execution_count": null,
   "metadata": {},
   "outputs": [],
   "source": [
    "import numpy as np\n",
    "import matplotlib.pyplot as plt\n",
    "%matplotlib inline\n",
    "import pandas as pd\n",
    "from scipy.stats import poisson, norm, chisquare"
   ]
  },
  {
   "cell_type": "markdown",
   "metadata": {},
   "source": [
    "Here we are figuring out our operating voltage.  Notice the count starts to blow up around 950.\n",
    "\n",
    "Our operating voltage is 780"
   ]
  },
  {
   "cell_type": "code",
   "execution_count": null,
   "metadata": {},
   "outputs": [],
   "source": [
    "df = pd.read_excel('geiger_calibration.xlsx')\n",
    "X = df.values\n",
    "for i in range(1, len(X[0])):\n",
    "    plt.scatter(X[:, 0], X[:,i])\n",
    "    \n",
    "plt.title('Calibrating the Geiger Counter')\n",
    "plt.xlabel('Counts')\n",
    "plt.ylabel('Voltage (Volts)')\n",
    "plt.legend([1,2,3,4,5])\n",
    "plt.show()"
   ]
  },
  {
   "cell_type": "code",
   "execution_count": null,
   "metadata": {},
   "outputs": [],
   "source": [
    "df1 = pd.read_excel('0.1s_interval_geiger.xlsx')\n",
    "counts = df1.values\n",
    "counts = np.ndarray.flatten(counts)\n",
    "y = np.bincount(counts)\n",
    "x = np.nonzero(y)[0]"
   ]
  },
  {
   "cell_type": "code",
   "execution_count": null,
   "metadata": {},
   "outputs": [],
   "source": [
    "mean = np.mean(counts)\n",
    "std = np.std(counts)\n",
    "print(mean, std**2)"
   ]
  },
  {
   "cell_type": "code",
   "execution_count": null,
   "metadata": {},
   "outputs": [],
   "source": [
    "inp = np.arange(poisson.ppf(0.01, mean), poisson.ppf(0.99, mean))\n",
    "plt.plot(inp, sum(y)*poisson.pmf(inp, mean), '-k')\n",
    "plt.plot(x,y, '.r')\n",
    "plt.title('Theoretical Poisson Distribution vs Experiment at 0.1 minutes')\n",
    "plt.ylabel('Probability Mass')\n",
    "plt.xlabel('count')\n",
    "plt.legend(['theoretical', 'experiment'])\n",
    "plt.show()"
   ]
  },
  {
   "cell_type": "code",
   "execution_count": null,
   "metadata": {},
   "outputs": [],
   "source": [
    "expected_values = sum(y)*poisson.pmf(x, mean)\n",
    "chi_test = chisquare(y, expected_values)\n",
    "chi2, p = chi_test\n",
    "print(chi2, p)"
   ]
  },
  {
   "cell_type": "code",
   "execution_count": null,
   "metadata": {},
   "outputs": [],
   "source": [
    "ins = np.arange(-1, 6, 0.01)\n",
    "plt.plot(ins, sum(y)*norm.pdf(ins, loc=mean), 'k-')\n",
    "plt.plot(x, y, '.r')\n",
    "plt.xlabel('count')\n",
    "plt.ylabel('Probability Density')\n",
    "plt.title('Normal distribution fit')\n",
    "plt.show()"
   ]
  },
  {
   "cell_type": "code",
   "execution_count": null,
   "metadata": {},
   "outputs": [],
   "source": [
    "expected_values = sum(y)*norm.pdf(x, mean)\n",
    "chi_test = chisquare(y,expected_values)\n",
    "chi2, p = chi_test\n",
    "print(chi2, p)"
   ]
  },
  {
   "cell_type": "code",
   "execution_count": null,
   "metadata": {},
   "outputs": [],
   "source": []
  }
 ],
 "metadata": {
  "kernelspec": {
   "display_name": "Python 3",
   "language": "python",
   "name": "python3"
  },
  "language_info": {
   "codemirror_mode": {
    "name": "ipython",
    "version": 3
   },
   "file_extension": ".py",
   "mimetype": "text/x-python",
   "name": "python",
   "nbconvert_exporter": "python",
   "pygments_lexer": "ipython3",
   "version": "3.6.5"
  }
 },
 "nbformat": 4,
 "nbformat_minor": 2
}
